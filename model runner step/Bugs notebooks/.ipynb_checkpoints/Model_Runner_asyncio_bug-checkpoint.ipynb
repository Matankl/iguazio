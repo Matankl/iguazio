{
 "cells": [
  {
   "cell_type": "markdown",
   "id": "37e11bb3-38fd-4bfd-9957-1aae57aeb548",
   "metadata": {},
   "source": [
    "#### 1. **Model Runner Step Sync And Async Testing**\n",
    "\n",
    "Notebook tests `ModelRunnerStep` within a serving graph to enable real-time monitoring and drift detection with MLRun. \n",
    "The main focus is to test te preformance of sync and async usage."
   ]
  },
  {
   "cell_type": "code",
   "execution_count": 1,
   "id": "c7231eb5-6e4b-4287-b4b8-cd183bb3aa37",
   "metadata": {},
   "outputs": [
    {
     "name": "stdout",
     "output_type": "stream",
     "text": [
      "> 2025-10-27 16:15:50,769 [info] Project loaded successfully: {\"project_name\":\"monitored-model-runner-asyncio-matanz\"}\n"
     ]
    }
   ],
   "source": [
    "# Import mlrun and create project instance\n",
    "import mlrun\n",
    "\n",
    "image = \"mlrun/mlrun\"\n",
    "project_name = \"monitored-model-runner-asyncio\"\n",
    "project = mlrun.get_or_create_project(project_name, context=\"./\",user_project=True, allow_cross_project=True)"
   ]
  },
  {
   "cell_type": "code",
   "execution_count": 2,
   "id": "0c5f5474-5f8c-458b-b36a-343431aa1f88",
   "metadata": {},
   "outputs": [],
   "source": [
    "# Import tools\n",
    "import pandas as pd\n",
    "from sklearn.svm import SVC\n",
    "import pickle\n",
    "from sklearn.datasets import load_iris\n",
    "from mlrun.features import Feature"
   ]
  },
  {
   "cell_type": "code",
   "execution_count": 3,
   "id": "38d78644-bdea-44c6-aee3-ad404bbc9fa9",
   "metadata": {},
   "outputs": [],
   "source": [
    "# Train simple SVM model on Iris dataset, save it and reformat the DS as list\n",
    "iris = load_iris()\n",
    "clf = SVC()           \n",
    "clf.fit(iris.data, iris.target)\n",
    "with open(\"SVM.pkl\", \"wb\") as fh:\n",
    "    pickle.dump(clf, fh)\n",
    "iris_data = iris[\"data\"].tolist()\n",
    "\n",
    "# load the dataset again as a DF\n",
    "iris = load_iris()\n",
    "train_set = pd.DataFrame(\n",
    "    iris[\"data\"],\n",
    "    columns=[\"sepal_length_cm\", \"sepal_width_cm\", \"petal_length_cm\", \"petal_width_cm\"],\n",
    ")\n",
    "\n",
    "# Create a Model Artifact in the project using the trained model\n",
    "model_name = \"SVM\"\n",
    "model_artifact = project.log_model(\n",
    "    model_name,\n",
    "    model_file=\"SVM.pkl\",\n",
    "    training_set=train_set,\n",
    "    framework=\"sklearn\",\n",
    "    outputs=[Feature(name=\"label\")],\n",
    ")"
   ]
  },
  {
   "cell_type": "code",
   "execution_count": 4,
   "id": "be557844-1d9d-4ab8-9c86-041400876ebb",
   "metadata": {},
   "outputs": [
    {
     "name": "stdout",
     "output_type": "stream",
     "text": [
      "Writing model_class_sync.py\n"
     ]
    }
   ],
   "source": [
    "%%writefile model_class_sync.py\n",
    "import mlrun\n",
    "import numpy as np\n",
    "\n",
    "from datetime import datetime\n",
    "from mlrun.serving.states import Model, ModelSelector\n",
    "from typing import Optional\n",
    "from cloudpickle import load\n",
    "from storey import MapClass\n",
    "import time\n",
    "\n",
    "\n",
    "\n",
    "\n",
    "class MyModel(Model):\n",
    "    def __init__(self, *args, artifact_uri: str = None, raise_exception = False, **kwargs):\n",
    "        super().__init__(*args, artifact_uri=artifact_uri, raise_exception=raise_exception, **kwargs)\n",
    "    \n",
    "    def load(self):\n",
    "        \"\"\"load and initialize the model and/or other elements\"\"\"\n",
    "        model_file, _ = self.get_local_model_path(\".pkl\")\n",
    "        self.model = load(open(model_file, \"rb\"))\n",
    "    \n",
    "    def predict(self, body: dict, **kwargs) -> dict:\n",
    "        \"\"\"Generate model predictions from sample.\"\"\"\n",
    "        print(\"sync\")\n",
    "        \n",
    "        time.sleep(1)\n",
    "        # asyncio.sleep(1)\n",
    "        \n",
    "        feats = np.asarray(body[\"inputs\"][\"here\"])\n",
    "        result: np.ndarray = self.model.predict(feats)\n",
    "        return {\"outputs\": {\"label\" :result.tolist()}}\n",
    "\n",
    "    # async def predict_async(self, body: dict, **kwargs) -> dict:\n",
    "    #     \"\"\"Generate model predictions from sample.\"\"\"\n",
    "    #     print(\"async\")\n",
    "    #     feats = np.asarray(body[\"inputs\"][\"here\"])\n",
    "    #     result: np.ndarray = self.model.predict(feats)\n",
    "    #     return {\"outputs\": {\"label\" :result.tolist()}}\n",
    "\n",
    "    \n",
    "class MyModelSelector(ModelSelector):\n",
    "    def __init__(self, name:str):\n",
    "        super().__init__()\n",
    "        self.name = name\n",
    "    \n",
    "    \"\"\"Selector allows the ModelRunnerStep to run some of models provided based on the event\"\"\"\n",
    "    def select(self, event, available_models: list[Model]) -> Optional[list[str]]:\n",
    "        return event.body.get(\"models\")\n",
    "    \n",
    "    \n",
    "class MyEnrichStep(MapClass):\n",
    "    def do(self, event):\n",
    "        event[\"timestamp\"] = str(datetime.now().timestamp())\n",
    "        return event\n",
    "\n",
    "\n",
    "class MyPreprocessStep(MapClass):\n",
    "    def do(self, event):\n",
    "        inputs = event.pop(\"inputs\")\n",
    "        event[\"inputs\"] = {\"here\": inputs}\n",
    "        return event"
   ]
  },
  {
   "cell_type": "markdown",
   "id": "5b4b3372-a208-4f20-bb72-9e3e72c45105",
   "metadata": {},
   "source": [
    "#### 5. Define your function and ModelRunnerStep\n",
    "\n",
    "Define functions to all the edge cases"
   ]
  },
  {
   "cell_type": "code",
   "execution_count": 5,
   "id": "555c2132-338e-42a4-94b7-4a7b9766c597",
   "metadata": {},
   "outputs": [],
   "source": [
    "# Config the code path and the serving function sync and async\n",
    "sync_code_path = r\"model_class_sync.py\"\n",
    "bouth_code_path = r\"model_class_bouth.py\"\n",
    "\n",
    "async_sync_function = project.set_function(func=sync_code_path,image=\"mlrun/mlrun\",kind=\"serving\",name=\"async\")"
   ]
  },
  {
   "cell_type": "code",
   "execution_count": 6,
   "id": "686d4606-1e8b-4495-9b5b-4fec2567405e",
   "metadata": {},
   "outputs": [],
   "source": [
    "from mlrun.serving.states import ModelRunnerStep\n",
    "\n",
    "model_runner_step = ModelRunnerStep(\n",
    "    name=\"my_runner\", model_selector=\"MyModelSelector\",model_selector_parameters={\"name\":\"my-selector\"})\n",
    "\n",
    "for i in range(10):\n",
    "    model_runner_step.add_model(\n",
    "        model_class=\"MyModel\",\n",
    "        endpoint_name=f\"my-{i}-model\",\n",
    "        model_artifact=model_artifact,\n",
    "        input_path=\"inputs.here\",\n",
    "        result_path=\"outputs\",\n",
    "        outputs=[\"label\"],\n",
    "        execution_mechanism=\"asyncio\",\n",
    "    )"
   ]
  },
  {
   "cell_type": "markdown",
   "id": "98ac6bb7-4574-4e34-ab41-00dc6fd39d29",
   "metadata": {},
   "source": [
    "#### 6. Build graphs to all the edge cases\n",
    "\n",
    "description\n"
   ]
  },
  {
   "cell_type": "code",
   "execution_count": 8,
   "id": "c9c07db1-170f-478d-9d1b-5cc7a700fdcf",
   "metadata": {},
   "outputs": [
    {
     "data": {
      "image/svg+xml": [
       "<?xml version=\"1.0\" encoding=\"UTF-8\" standalone=\"no\"?>\n",
       "<!DOCTYPE svg PUBLIC \"-//W3C//DTD SVG 1.1//EN\"\n",
       " \"http://www.w3.org/Graphics/SVG/1.1/DTD/svg11.dtd\">\n",
       "<!-- Generated by graphviz version 2.43.0 (0)\n",
       " -->\n",
       "<!-- Title: mlrun&#45;flow Pages: 1 -->\n",
       "<svg width=\"206pt\" height=\"277pt\"\n",
       " viewBox=\"0.00 0.00 205.58 277.00\" xmlns=\"http://www.w3.org/2000/svg\" xmlns:xlink=\"http://www.w3.org/1999/xlink\">\n",
       "<g id=\"graph0\" class=\"graph\" transform=\"scale(1 1) rotate(0) translate(4 273)\">\n",
       "<title>mlrun&#45;flow</title>\n",
       "<polygon fill=\"white\" stroke=\"transparent\" points=\"-4,4 -4,-273 201.58,-273 201.58,4 -4,4\"/>\n",
       "<!-- _start -->\n",
       "<g id=\"node1\" class=\"node\">\n",
       "<title>_start</title>\n",
       "<polygon fill=\"lightgrey\" stroke=\"black\" points=\"102.04,-233.05 104.19,-233.15 106.32,-233.3 108.42,-233.49 110.47,-233.74 112.48,-234.03 114.44,-234.36 116.33,-234.75 118.15,-235.18 119.89,-235.65 121.55,-236.16 123.13,-236.71 124.6,-237.31 125.98,-237.94 127.25,-238.61 128.42,-239.31 129.48,-240.04 130.43,-240.8 131.26,-241.59 131.98,-242.41 132.58,-243.25 133.07,-244.11 133.44,-244.99 133.7,-245.89 133.85,-246.8 133.89,-247.72 133.83,-248.65 133.66,-249.59 133.39,-250.53 133.02,-251.47 132.56,-252.41 132.01,-253.35 131.38,-254.28 130.67,-255.2 129.89,-256.11 129.04,-257.01 128.12,-257.89 127.14,-258.75 126.11,-259.59 125.02,-260.41 123.89,-261.2 122.72,-261.96 121.51,-262.69 120.27,-263.39 118.99,-264.06 117.69,-264.69 116.37,-265.29 115.02,-265.84 113.66,-266.35 112.28,-266.82 110.89,-267.25 109.49,-267.64 108.08,-267.97 106.66,-268.26 105.24,-268.51 103.81,-268.7 102.38,-268.85 100.94,-268.95 99.51,-269 98.07,-269 96.64,-268.95 95.2,-268.85 93.77,-268.7 92.34,-268.51 90.92,-268.26 89.5,-267.97 88.09,-267.64 86.69,-267.25 85.3,-266.82 83.92,-266.35 82.56,-265.84 81.22,-265.29 79.89,-264.69 78.59,-264.06 77.32,-263.39 76.07,-262.69 74.86,-261.96 73.69,-261.2 72.56,-260.41 71.47,-259.59 70.44,-258.75 69.46,-257.89 68.54,-257.01 67.69,-256.11 66.91,-255.2 66.2,-254.28 65.57,-253.35 65.02,-252.41 64.56,-251.47 64.2,-250.53 63.93,-249.59 63.76,-248.65 63.69,-247.72 63.73,-246.8 63.88,-245.89 64.14,-244.99 64.51,-244.11 65,-243.25 65.61,-242.41 66.32,-241.59 67.16,-240.8 68.1,-240.04 69.16,-239.31 70.33,-238.61 71.6,-237.94 72.98,-237.31 74.46,-236.71 76.03,-236.16 77.69,-235.65 79.43,-235.18 81.25,-234.75 83.14,-234.36 85.1,-234.03 87.11,-233.74 89.17,-233.49 91.26,-233.3 93.39,-233.15 95.54,-233.05 97.71,-233 99.88,-233 102.04,-233.05\"/>\n",
       "<text text-anchor=\"middle\" x=\"98.79\" y=\"-247.3\" font-family=\"Times,serif\" font-size=\"14.00\">start</text>\n",
       "</g>\n",
       "<!-- MyPreprocessStep -->\n",
       "<g id=\"node2\" class=\"node\">\n",
       "<title>MyPreprocessStep</title>\n",
       "<ellipse fill=\"none\" stroke=\"black\" cx=\"98.79\" cy=\"-179\" rx=\"98.58\" ry=\"18\"/>\n",
       "<text text-anchor=\"middle\" x=\"98.79\" y=\"-175.3\" font-family=\"Times,serif\" font-size=\"14.00\">MyPreprocessStep</text>\n",
       "</g>\n",
       "<!-- _start&#45;&gt;MyPreprocessStep -->\n",
       "<g id=\"edge1\" class=\"edge\">\n",
       "<title>_start&#45;&gt;MyPreprocessStep</title>\n",
       "<path fill=\"none\" stroke=\"black\" d=\"M98.79,-232.7C98.79,-224.98 98.79,-215.71 98.79,-207.11\"/>\n",
       "<polygon fill=\"black\" stroke=\"black\" points=\"102.29,-207.1 98.79,-197.1 95.29,-207.1 102.29,-207.1\"/>\n",
       "</g>\n",
       "<!-- my_runner -->\n",
       "<g id=\"node3\" class=\"node\">\n",
       "<title>my_runner</title>\n",
       "<polygon fill=\"none\" stroke=\"black\" points=\"149.79,-125 146.79,-129 125.79,-129 122.79,-125 47.79,-125 47.79,-72 149.79,-72 149.79,-125\"/>\n",
       "<polygon fill=\"black\" stroke=\"transparent\" points=\"93.79,-102.5 93.79,-116.5 137.79,-116.5 137.79,-102.5 93.79,-102.5\"/>\n",
       "<text text-anchor=\"start\" x=\"109.29\" y=\"-108.3\" font-family=\"Times,serif\" font-weight=\"bold\" font-size=\"9.00\" fill=\"white\">10</text>\n",
       "<text text-anchor=\"start\" x=\"59.79\" y=\"-83.3\" font-family=\"Times,serif\" font-size=\"14.00\">my_runner</text>\n",
       "</g>\n",
       "<!-- MyPreprocessStep&#45;&gt;my_runner -->\n",
       "<g id=\"edge2\" class=\"edge\">\n",
       "<title>MyPreprocessStep&#45;&gt;my_runner</title>\n",
       "<path fill=\"none\" stroke=\"black\" d=\"M98.79,-160.97C98.79,-153.45 98.79,-144.31 98.79,-135.4\"/>\n",
       "<polygon fill=\"black\" stroke=\"black\" points=\"102.29,-135.16 98.79,-125.16 95.29,-135.16 102.29,-135.16\"/>\n",
       "</g>\n",
       "<!-- MyEnrichStep -->\n",
       "<g id=\"node4\" class=\"node\">\n",
       "<title>MyEnrichStep</title>\n",
       "<ellipse fill=\"none\" stroke=\"black\" cx=\"98.79\" cy=\"-18\" rx=\"77.19\" ry=\"18\"/>\n",
       "<text text-anchor=\"middle\" x=\"98.79\" y=\"-14.3\" font-family=\"Times,serif\" font-size=\"14.00\">MyEnrichStep</text>\n",
       "</g>\n",
       "<!-- my_runner&#45;&gt;MyEnrichStep -->\n",
       "<g id=\"edge3\" class=\"edge\">\n",
       "<title>my_runner&#45;&gt;MyEnrichStep</title>\n",
       "<path fill=\"none\" stroke=\"black\" d=\"M98.79,-71.8C98.79,-63.71 98.79,-54.76 98.79,-46.55\"/>\n",
       "<polygon fill=\"black\" stroke=\"black\" points=\"102.29,-46.33 98.79,-36.33 95.29,-46.33 102.29,-46.33\"/>\n",
       "</g>\n",
       "</g>\n",
       "</svg>\n"
      ],
      "text/plain": [
       "<graphviz.graphs.Digraph at 0x7f9e965f5b20>"
      ]
     },
     "execution_count": 8,
     "metadata": {},
     "output_type": "execute_result"
    }
   ],
   "source": [
    "async_graph_defined = async_sync_function.set_topology(\"flow\",engine=\"async\")\n",
    "async_graph_defined.to(\"MyPreprocessStep\").to(model_runner_step).to(\"MyEnrichStep\").respond()\n",
    "async_graph_defined.plot()"
   ]
  },
  {
   "cell_type": "markdown",
   "id": "df7f8407-c5d1-4ed9-82e5-e9ae2782df40",
   "metadata": {},
   "source": [
    "#### Run using mock\n",
    "\n",
    "descteption"
   ]
  },
  {
   "cell_type": "code",
   "execution_count": 9,
   "id": "aef9c427-9630-4c11-a949-a1bc8e7cc241",
   "metadata": {},
   "outputs": [
    {
     "name": "stdout",
     "output_type": "stream",
     "text": [
      "> 2025-10-27 16:16:17,028 [info] Server graph after adding system steps: {\"graph\":\"{'MyPreprocessStep': {'kind': 'task', 'class_name': 'MyPreprocessStep'}, 'my_runner': {'shape': 'folder', 'kind': 'model_runner', 'model_endpoint_creation_strategy': 'skip', 'class_name': 'mlrun.serving.ModelRunner', 'class_args': {'model_selector': ('MyModelSelector', {'name': 'my-selector'}), execution_mechanism_by_model_name: {'my-0-model': 'asyncio', 'my-1-model': 'asyncio', 'my-2-model': 'asyncio', 'my-3-model': 'asyncio', 'my-4-model': 'asyncio', 'my-5-model': 'asyncio', 'my-6-model': 'asyncio', 'my-7-model': 'asyncio', 'my-8-model': 'asyncio', 'my-9-model': 'asyncio'}, models: {'my-0-model': ('MyModel', {'artifact_uri': 'store://models/monitored-model-runner-asyncio-matanz/SVM#0@a213ec86-a88b-4d22-a79f-5f23b297e10e^01d78c89d585a72a1bd8ccd3857fec2e108f291c', 'name': 'my-0-model'}), 'my-1-model': ('MyModel', {'artifact_uri': 'store://models/monitored-model-runner-asyncio-matanz/SVM#0@a213ec86-a88b-4d22-a79f-5f23b297e10e^01d78c89d585a72a1bd8ccd3857fec2e108f291c', 'name': 'my-1-model'}), 'my-2-model': ('MyModel', {'artifact_uri': 'store://models/monitored-model-runner-asyncio-matanz/SVM#0@a213ec86-a88b-4d22-a79f-5f23b297e10e^01d78c89d585a72a1bd8ccd3857fec2e108f291c', 'name': 'my-2-model'}), 'my-3-model': ('MyModel', {'artifact_uri': 'store://models/monitored-model-runner-asyncio-matanz/SVM#0@a213ec86-a88b-4d22-a79f-5f23b297e10e^01d78c89d585a72a1bd8ccd3857fec2e108f291c', 'name': 'my-3-model'}), 'my-4-model': ('MyModel', {'artifact_uri': 'store://models/monitored-model-runner-asyncio-matanz/SVM#0@a213ec86-a88b-4d22-a79f-5f23b297e10e^01d78c89d585a72a1bd8ccd3857fec2e108f291c', 'name': 'my-4-model'}), 'my-5-model': ('MyModel', {'artifact_uri': 'store://models/monitored-model-runner-asyncio-matanz/SVM#0@a213ec86-a88b-4d22-a79f-5f23b297e10e^01d78c89d585a72a1bd8ccd3857fec2e108f291c', 'name': 'my-5-model'}), 'my-6-model': ('MyModel', {'artifact_uri': 'store://models/monitored-model-runner-asyncio-matanz/SVM#0@a213ec86-a88b-4d22-a79f-5f23b297e10e^01d78c89d585a72a1bd8ccd3857fec2e108f291c', 'name': 'my-6-model'}), 'my-7-model': ('MyModel', {'artifact_uri': 'store://models/monitored-model-runner-asyncio-matanz/SVM#0@a213ec86-a88b-4d22-a79f-5f23b297e10e^01d78c89d585a72a1bd8ccd3857fec2e108f291c', 'name': 'my-7-model'}), 'my-8-model': ('MyModel', {'artifact_uri': 'store://models/monitored-model-runner-asyncio-matanz/SVM#0@a213ec86-a88b-4d22-a79f-5f23b297e10e^01d78c89d585a72a1bd8ccd3857fec2e108f291c', 'name': 'my-8-model'}), 'my-9-model': ('MyModel', {'artifact_uri': 'store://models/monitored-model-runner-asyncio-matanz/SVM#0@a213ec86-a88b-4d22-a79f-5f23b297e10e^01d78c89d585a72a1bd8ccd3857fec2e108f291c', 'name': 'my-9-model'})}, monitoring_data: {'my-0-model': {inputs: None, outputs: ['label'], input_path: 'inputs.here', result_path: 'outputs', creation_strategy: inplace, labels: None, model_path: 'store://models/monitored-model-runner-asyncio-matanz/SVM#0@a213ec86-a88b-4d22-a79f-5f23b297e10e^01d78c89d585a72a1bd8ccd3857fec2e108f291c', model_class: 'MyModel'}, 'my-1-model': {inputs: None, outputs: ['label'], input_path: 'inputs.here', result_path: 'outputs', creation_strategy: inplace, labels: None, model_path: 'store://models/monitored-model-runner-asyncio-matanz/SVM#0@a213ec86-a88b-4d22-a79f-5f23b297e10e^01d78c89d585a72a1bd8ccd3857fec2e108f291c', model_class: 'MyModel'}, 'my-2-model': {inputs: None, outputs: ['label'], input_path: 'inputs.here', result_path: 'outputs', creation_strategy: inplace, labels: None, model_path: 'store://models/monitored-model-runner-asyncio-matanz/SVM#0@a213ec86-a88b-4d22-a79f-5f23b297e10e^01d78c89d585a72a1bd8ccd3857fec2e108f291c', model_class: 'MyModel'}, 'my-3-model': {inputs: None, outputs: ['label'], input_path: 'inputs.here', result_path: 'outputs', creation_strategy: inplace, labels: None, model_path: 'store://models/monitored-model-runner-asyncio-matanz/SVM#0@a213ec86-a88b-4d22-a79f-5f23b297e10e^01d78c89d585a72a1bd8ccd3857fec2e108f291c', model_class: 'MyModel'}, 'my-4-model': {inputs: None, outputs: ['label'], input_path: 'inputs.here', result_path: 'outputs', creation_strategy: inplace, labels: None, model_path: 'store://models/monitored-model-runner-asyncio-matanz/SVM#0@a213ec86-a88b-4d22-a79f-5f23b297e10e^01d78c89d585a72a1bd8ccd3857fec2e108f291c', model_class: 'MyModel'}, 'my-5-model': {inputs: None, outputs: ['label'], input_path: 'inputs.here', result_path: 'outputs', creation_strategy: inplace, labels: None, model_path: 'store://models/monitored-model-runner-asyncio-matanz/SVM#0@a213ec86-a88b-4d22-a79f-5f23b297e10e^01d78c89d585a72a1bd8ccd3857fec2e108f291c', model_class: 'MyModel'}, 'my-6-model': {inputs: None, outputs: ['label'], input_path: 'inputs.here', result_path: 'outputs', creation_strategy: inplace, labels: None, model_path: 'store://models/monitored-model-runner-asyncio-matanz/SVM#0@a213ec86-a88b-4d22-a79f-5f23b297e10e^01d78c89d585a72a1bd8ccd3857fec2e108f291c', model_class: 'MyModel'}, 'my-7-model': {inputs: None, outputs: ['label'], input_path: 'inputs.here', result_path: 'outputs', creation_strategy: inplace, labels: None, model_path: 'store://models/monitored-model-runner-asyncio-matanz/SVM#0@a213ec86-a88b-4d22-a79f-5f23b297e10e^01d78c89d585a72a1bd8ccd3857fec2e108f291c', model_class: 'MyModel'}, 'my-8-model': {inputs: None, outputs: ['label'], input_path: 'inputs.here', result_path: 'outputs', creation_strategy: inplace, labels: None, model_path: 'store://models/monitored-model-runner-asyncio-matanz/SVM#0@a213ec86-a88b-4d22-a79f-5f23b297e10e^01d78c89d585a72a1bd8ccd3857fec2e108f291c', model_class: 'MyModel'}, 'my-9-model': {inputs: None, outputs: ['label'], input_path: 'inputs.here', result_path: 'outputs', creation_strategy: inplace, labels: None, model_path: 'store://models/monitored-model-runner-asyncio-matanz/SVM#0@a213ec86-a88b-4d22-a79f-5f23b297e10e^01d78c89d585a72a1bd8ccd3857fec2e108f291c', model_class: 'MyModel'}}}, 'after': ['MyPreprocessStep'], 'endpoint_type': 1, 'raise_exception': True}, 'MyEnrichStep': {'responder': True, 'kind': 'task', 'class_name': 'MyEnrichStep', 'after': ['my_runner_error_raise']}, 'my_runner_error_raise': {'kind': 'task', 'model_endpoint_creation_strategy': 'skip', 'full_event': True, 'class_name': 'mlrun.serving.states.ModelRunnerErrorRaiser', 'class_args': {'raise_exception': True, 'models_names': ['my-0-model', 'my-1-model', 'my-2-model', 'my-3-model', 'my-4-model', 'my-5-model', 'my-6-model', 'my-7-model', 'my-8-model', 'my-9-model']}, 'after': ['my_runner']}}\"}\n"
     ]
    }
   ],
   "source": [
    "# 4. create mock server and test it locally (no k8s / deployment)\n",
    "async_defined_mock_server = async_sync_function.to_mock_server()"
   ]
  },
  {
   "cell_type": "code",
   "execution_count": 10,
   "id": "8e6be3af-c956-498f-b4a8-8311a974b096",
   "metadata": {},
   "outputs": [
    {
     "data": {
      "text/plain": [
       "<mlrun.serving.server.GraphServer at 0x7f9eca7197c0>"
      ]
     },
     "execution_count": 10,
     "metadata": {},
     "output_type": "execute_result"
    }
   ],
   "source": [
    "async_defined_mock_server"
   ]
  },
  {
   "cell_type": "code",
   "execution_count": 12,
   "id": "57b1cfc9-64b1-4112-aa94-1d6dfc108502",
   "metadata": {},
   "outputs": [
    {
     "name": "stdout",
     "output_type": "stream",
     "text": [
      "Data point:[4.8, 3.0, 1.4, 0.1]\n",
      "Before async_sync_function invoke: 16:17:31.935112\n",
      "After invoke: 16:17:31.937281\n",
      "Total time: 0.002169 seconds\n"
     ]
    }
   ],
   "source": [
    "from random import choice\n",
    "from datetime import datetime\n",
    "\n",
    "iris_data = iris[\"data\"].tolist()\n",
    "data_point = choice(iris_data)\n",
    "print(f\"Data point:{data_point}\")\n",
    "\n",
    "\n",
    "time_before = datetime.now()\n",
    "print(\"Before async_sync_function invoke:\", time_before.strftime(\"%H:%M:%S.%f\"))\n",
    "async_sync_response = async_defined_mock_server.test(\n",
    "    \"/\",\n",
    "    body={\n",
    "        \"models\": None,\n",
    "        \"inputs\": [data_point, data_point],\n",
    "    },\n",
    ")\n",
    "time_after = datetime.now()\n",
    "print(\"After invoke:\", time_after.strftime(\"%H:%M:%S.%f\"))\n",
    "\n",
    "# Compute total time difference\n",
    "total_time = time_after - time_before\n",
    "print(\"Total time:\", total_time.total_seconds(), \"seconds\")"
   ]
  },
  {
   "cell_type": "markdown",
   "id": "45d9626a-6b61-4373-806a-2581754b297c",
   "metadata": {},
   "source": [
    "#### 7. Deploying Your Function\n",
    "\n",
    "Running this cell will deploy your serving function to the cluster. This also deploys the real-time monitoring functions for your project, which are configured to track the serving function's performance and detect model drift."
   ]
  },
  {
   "cell_type": "code",
   "execution_count": 14,
   "id": "f6adb3dd-166c-4d02-93cc-116d5cbd23d8",
   "metadata": {},
   "outputs": [
    {
     "name": "stdout",
     "output_type": "stream",
     "text": [
      "> 2025-10-27 16:17:33,799 [info] Starting remote function deploy\n",
      "2025-10-27 16:17:34  (info) Deploying function\n",
      "2025-10-27 16:17:34  (info) Building\n",
      "2025-10-27 16:17:34  (info) Staging files and preparing base images\n",
      "2025-10-27 16:17:34  (warn) Using user provided base image, runtime interpreter version is provided by the base image\n",
      "2025-10-27 16:17:34  (info) Building processor image\n",
      "2025-10-27 16:18:49  (info) Build complete\n",
      "2025-10-27 16:19:16  (info) Function deploy complete\n",
      "> 2025-10-27 16:19:25,228 [info] Model endpoint creation task completed with state succeeded\n",
      "> 2025-10-27 16:19:25,229 [info] Successfully deployed function: {\"external_invocation_urls\":[\"monitored-model-runner-asyncio-matanz-async.default-tenant.app.cust-cs-il.iguazio-cd0.com/\"],\"internal_invocation_urls\":[\"nuclio-monitored-model-runner-asyncio-matanz-async.default-tenant.svc.cluster.local:8080\"]}\n"
     ]
    },
    {
     "data": {
      "text/plain": [
       "'http://monitored-model-runner-asyncio-matanz-async.default-tenant.app.cust-cs-il.iguazio-cd0.com/'"
      ]
     },
     "execution_count": 14,
     "metadata": {},
     "output_type": "execute_result"
    }
   ],
   "source": [
    "async_sync_function.deploy()"
   ]
  },
  {
   "cell_type": "code",
   "execution_count": 15,
   "id": "f487080f-65c0-4a36-88d2-b8366883a91a",
   "metadata": {},
   "outputs": [
    {
     "name": "stdout",
     "output_type": "stream",
     "text": [
      "Data point:[6.1, 2.9, 4.7, 1.4]\n",
      "Before async_sync_function invoke: 16:19:25.331335\n",
      "After invoke: 16:19:25.438741\n",
      "Total time: 0.107406 seconds\n"
     ]
    }
   ],
   "source": [
    "iris_data = iris[\"data\"].tolist()\n",
    "data_point = choice(iris_data)\n",
    "print(f\"Data point:{data_point}\")\n",
    "\n",
    "\n",
    "time_before = datetime.now()\n",
    "print(\"Before async_sync_function invoke:\", time_before.strftime(\"%H:%M:%S.%f\"))\n",
    "async_sync_response = async_sync_function.invoke(\n",
    "    \"/\",\n",
    "    body={\n",
    "        \"models\": None,\n",
    "        \"inputs\": [data_point, data_point],\n",
    "    },\n",
    ")\n",
    "time_after = datetime.now()\n",
    "print(\"After invoke:\", time_after.strftime(\"%H:%M:%S.%f\"))\n",
    "\n",
    "# Compute total time difference\n",
    "total_time = time_after - time_before\n",
    "print(\"Total time:\", total_time.total_seconds(), \"seconds\")"
   ]
  },
  {
   "cell_type": "code",
   "execution_count": 16,
   "id": "93540b6d-cf63-4391-abc6-01606ed4bb14",
   "metadata": {},
   "outputs": [],
   "source": [
    "# async_sync_response"
   ]
  }
 ],
 "metadata": {
  "kernelspec": {
   "display_name": "mlrun-base",
   "language": "python",
   "name": "conda-env-mlrun-base-py"
  },
  "language_info": {
   "codemirror_mode": {
    "name": "ipython",
    "version": 3
   },
   "file_extension": ".py",
   "mimetype": "text/x-python",
   "name": "python",
   "nbconvert_exporter": "python",
   "pygments_lexer": "ipython3",
   "version": "3.9.18"
  }
 },
 "nbformat": 4,
 "nbformat_minor": 5
}
