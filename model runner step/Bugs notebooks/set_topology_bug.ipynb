{
 "cells": [
  {
   "cell_type": "markdown",
   "id": "37e11bb3-38fd-4bfd-9957-1aae57aeb548",
   "metadata": {},
   "source": [
    "#### 1. **Model Runner Step Sync And Async Testing**\n",
    "\n",
    "Notebook tests `ModelRunnerStep` within a serving graph to enable real-time monitoring and drift detection with MLRun. \n",
    "The main focus is to test te preformance of sync and async usage."
   ]
  },
  {
   "cell_type": "code",
   "execution_count": 1,
   "id": "c7231eb5-6e4b-4287-b4b8-cd183bb3aa37",
   "metadata": {},
   "outputs": [
    {
     "name": "stdout",
     "output_type": "stream",
     "text": [
      "> 2025-10-26 10:01:25,401 [info] Project loaded successfully: {\"project_name\":\"monitored-model-runner-matanz\"}\n"
     ]
    }
   ],
   "source": [
    "# Import mlrun and create project instance\n",
    "import mlrun\n",
    "\n",
    "image = \"mlrun/mlrun\"\n",
    "project_name = \"monitored-model-runner\"\n",
    "project = mlrun.get_or_create_project(project_name, context=\"./\",user_project=True)"
   ]
  },
  {
   "cell_type": "code",
   "execution_count": 2,
   "id": "0c5f5474-5f8c-458b-b36a-343431aa1f88",
   "metadata": {},
   "outputs": [],
   "source": [
    "# Import tools\n",
    "import pandas as pd\n",
    "from sklearn.svm import SVC\n",
    "import pickle\n",
    "from sklearn.datasets import load_iris\n",
    "from mlrun.features import Feature"
   ]
  },
  {
   "cell_type": "code",
   "execution_count": 17,
   "id": "38d78644-bdea-44c6-aee3-ad404bbc9fa9",
   "metadata": {},
   "outputs": [],
   "source": [
    "# Train simple SVM model on Iris dataset, save it and reformat the DS as list\n",
    "iris = load_iris()\n",
    "clf = SVC()           \n",
    "clf.fit(iris.data, iris.target)\n",
    "with open(\"SVM.pkl\", \"wb\") as fh:\n",
    "    pickle.dump(clf, fh)\n",
    "iris_data = iris[\"data\"].tolist()\n",
    "\n",
    "# load the dataset again as a DF\n",
    "iris = load_iris()\n",
    "train_set = pd.DataFrame(\n",
    "    iris[\"data\"],\n",
    "    columns=[\"sepal_length_cm\", \"sepal_width_cm\", \"petal_length_cm\", \"petal_width_cm\"],\n",
    ")\n",
    "\n",
    "# Create a Model Artifact in the project using the trained model\n",
    "model_name = \"SVM\"\n",
    "model_artifact = project.log_model(\n",
    "    model_name,\n",
    "    model_file=\"SVM.pkl\",\n",
    "    training_set=train_set,\n",
    "    framework=\"sklearn\",\n",
    "    outputs=[Feature(name=\"label\")],\n",
    ")"
   ]
  },
  {
   "cell_type": "markdown",
   "id": "5b4b3372-a208-4f20-bb72-9e3e72c45105",
   "metadata": {},
   "source": [
    "#### 5. Define your function and ModelRunnerStep\n",
    "\n",
    "Define functions to all the edge cases"
   ]
  },
  {
   "cell_type": "code",
   "execution_count": 28,
   "id": "555c2132-338e-42a4-94b7-4a7b9766c597",
   "metadata": {},
   "outputs": [],
   "source": [
    "# Config the code path and the serving function sync and async\n",
    "sync_code_path = r\"model_class_sync.py\"\n",
    "bouth_code_path = r\"model_class_bouth.py\"\n",
    "\n",
    "\n",
    "sync_function = project.set_function(func=sync_code_path,image=\"mlrun/mlrun\",kind=\"serving\",name=\"serving-function\")\n",
    "async_sync_function = project.set_function(func=sync_code_path,image=\"mlrun/mlrun\",kind=\"serving\",name=\"serving-function\")\n",
    "bouth_function = project.set_function(func=bouth_code_path,image=\"mlrun/mlrun\",kind=\"serving\",name=\"serving-function\")"
   ]
  },
  {
   "cell_type": "code",
   "execution_count": 29,
   "id": "686d4606-1e8b-4495-9b5b-4fec2567405e",
   "metadata": {},
   "outputs": [],
   "source": [
    "from mlrun.serving.states import ModelRunnerStep\n",
    "\n",
    "model_runner_step = ModelRunnerStep(\n",
    "    name=\"my_runner\", model_selector=\"MyModelSelector\",model_selector_parameters={\"name\":\"my-selector\"})\n",
    "\n",
    "model_runner_step.add_model(\n",
    "    model_class=\"MyModel\",\n",
    "    endpoint_name=\"my-model\",\n",
    "    model_artifact=model_artifact,\n",
    "    input_path=\"inputs.here\",\n",
    "    result_path=\"outputs\",\n",
    "    outputs=[\"label\"],\n",
    "    execution_mechanism=\"thread_pool\",\n",
    ")\n",
    "\n",
    "for i in range(10):\n",
    "    model_runner_step.add_model(\n",
    "        model_class=\"MyModel\",\n",
    "        endpoint_name=f\"my-{i}-model\",\n",
    "        model_artifact=model_artifact,\n",
    "        input_path=\"inputs.here\",\n",
    "        result_path=\"outputs\",\n",
    "        outputs=[\"label\"],\n",
    "        execution_mechanism=\"thread_pool\",\n",
    "    )"
   ]
  },
  {
   "cell_type": "markdown",
   "id": "98ac6bb7-4574-4e34-ab41-00dc6fd39d29",
   "metadata": {},
   "source": [
    "#### 6. Build graphs to all the edge cases\n",
    "\n",
    "description\n"
   ]
  },
  {
   "cell_type": "code",
   "execution_count": 31,
   "id": "c9c07db1-170f-478d-9d1b-5cc7a700fdcf",
   "metadata": {},
   "outputs": [
    {
     "ename": "MLRunInvalidArgumentError",
     "evalue": "graph topology is already set, cannot be overwritten",
     "output_type": "error",
     "traceback": [
      "\u001b[0;31m---------------------------------------------------------------------------\u001b[0m",
      "\u001b[0;31mMLRunInvalidArgumentError\u001b[0m                 Traceback (most recent call last)",
      "Cell \u001b[0;32mIn[31], line 1\u001b[0m\n\u001b[0;32m----> 1\u001b[0m sync_graph \u001b[38;5;241m=\u001b[39m \u001b[43msync_function\u001b[49m\u001b[38;5;241;43m.\u001b[39;49m\u001b[43mset_topology\u001b[49m\u001b[43m(\u001b[49m\u001b[38;5;124;43m\"\u001b[39;49m\u001b[38;5;124;43mflow\u001b[39;49m\u001b[38;5;124;43m\"\u001b[39;49m\u001b[43m,\u001b[49m\u001b[43mengine\u001b[49m\u001b[38;5;241;43m=\u001b[39;49m\u001b[38;5;124;43m\"\u001b[39;49m\u001b[38;5;124;43msync\u001b[39;49m\u001b[38;5;124;43m\"\u001b[39;49m\u001b[43m)\u001b[49m\n\u001b[1;32m      2\u001b[0m sync_graph\u001b[38;5;241m.\u001b[39mto(\u001b[38;5;124m\"\u001b[39m\u001b[38;5;124mMyPreprocessStep\u001b[39m\u001b[38;5;124m\"\u001b[39m)\u001b[38;5;241m.\u001b[39mto(model_runner_step)\u001b[38;5;241m.\u001b[39mto(\u001b[38;5;124m\"\u001b[39m\u001b[38;5;124mMyEnrichStep\u001b[39m\u001b[38;5;124m\"\u001b[39m)\u001b[38;5;241m.\u001b[39mrespond()\n\u001b[1;32m      3\u001b[0m sync_graph\u001b[38;5;241m.\u001b[39mplot()\n",
      "File \u001b[0;32m~/.pythonlibs/mlrun-base/lib/python3.9/site-packages/mlrun/runtimes/nuclio/serving.py:289\u001b[0m, in \u001b[0;36mServingRuntime.set_topology\u001b[0;34m(self, topology, class_name, engine, exist_ok, **class_args)\u001b[0m\n\u001b[1;32m    287\u001b[0m topology \u001b[38;5;241m=\u001b[39m topology \u001b[38;5;129;01mor\u001b[39;00m StepKinds\u001b[38;5;241m.\u001b[39mrouter\n\u001b[1;32m    288\u001b[0m \u001b[38;5;28;01mif\u001b[39;00m \u001b[38;5;28mself\u001b[39m\u001b[38;5;241m.\u001b[39mspec\u001b[38;5;241m.\u001b[39mgraph \u001b[38;5;129;01mand\u001b[39;00m \u001b[38;5;129;01mnot\u001b[39;00m exist_ok:\n\u001b[0;32m--> 289\u001b[0m     \u001b[38;5;28;01mraise\u001b[39;00m mlrun\u001b[38;5;241m.\u001b[39merrors\u001b[38;5;241m.\u001b[39mMLRunInvalidArgumentError(\n\u001b[1;32m    290\u001b[0m         \u001b[38;5;124m\"\u001b[39m\u001b[38;5;124mgraph topology is already set, cannot be overwritten\u001b[39m\u001b[38;5;124m\"\u001b[39m\n\u001b[1;32m    291\u001b[0m     )\n\u001b[1;32m    293\u001b[0m \u001b[38;5;28;01mif\u001b[39;00m topology \u001b[38;5;241m==\u001b[39m StepKinds\u001b[38;5;241m.\u001b[39mrouter:\n\u001b[1;32m    294\u001b[0m     \u001b[38;5;28;01mif\u001b[39;00m class_name \u001b[38;5;129;01mand\u001b[39;00m \u001b[38;5;28mhasattr\u001b[39m(class_name, \u001b[38;5;124m\"\u001b[39m\u001b[38;5;124mto_dict\u001b[39m\u001b[38;5;124m\"\u001b[39m):\n",
      "\u001b[0;31mMLRunInvalidArgumentError\u001b[0m: graph topology is already set, cannot be overwritten"
     ]
    }
   ],
   "source": [
    "sync_graph = sync_function.set_topology(\"flow\",engine=\"sync\")\n",
    "sync_graph.to(\"MyPreprocessStep\").to(model_runner_step).to(\"MyEnrichStep\").respond()\n",
    "sync_graph.plot()\n",
    "\n",
    "async_graph_defined = bouth_function.set_topology(\"flow\",engine=\"async\")\n",
    "async_graph_defined.to(\"MyPreprocessStep\").to(model_runner_step).to(\"MyEnrichStep\").respond()\n",
    "async_graph_defined.plot()\n",
    "\n",
    "async_graph_undefined = async_sync_function.set_topology(\"flow\",engine=\"async\")\n",
    "async_graph_undefined.to(\"MyPreprocessStep\").to(model_runner_step).to(\"MyEnrichStep\").respond()\n",
    "async_graph_undefined.plot()\n"
   ]
  }
 ],
 "metadata": {
  "kernelspec": {
   "display_name": "mlrun-base",
   "language": "python",
   "name": "conda-env-mlrun-base-py"
  },
  "language_info": {
   "codemirror_mode": {
    "name": "ipython",
    "version": 3
   },
   "file_extension": ".py",
   "mimetype": "text/x-python",
   "name": "python",
   "nbconvert_exporter": "python",
   "pygments_lexer": "ipython3",
   "version": "3.9.18"
  }
 },
 "nbformat": 4,
 "nbformat_minor": 5
}
