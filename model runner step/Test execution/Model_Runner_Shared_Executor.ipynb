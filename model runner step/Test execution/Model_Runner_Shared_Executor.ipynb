{
 "cells": [
  {
   "cell_type": "markdown",
   "id": "37e11bb3-38fd-4bfd-9957-1aae57aeb548",
   "metadata": {},
   "source": [
    "#### 1. **Model Runner Step Sync And Async Testing**\n",
    "\n",
    "Notebook tests `ModelRunnerStep` within a serving graph to enable real-time monitoring and drift detection with MLRun. \n",
    "The main focus is to test te preformance of sync and async usage."
   ]
  },
  {
   "cell_type": "code",
   "id": "c7231eb5-6e4b-4287-b4b8-cd183bb3aa37",
   "metadata": {
    "ExecuteTime": {
     "end_time": "2025-10-30T08:51:52.893827Z",
     "start_time": "2025-10-30T08:51:49.611818Z"
    }
   },
   "source": [
    "# Import mlrun and create project instance\n",
    "import mlrun\n",
    "mlrun.set_env_from_file('../../cust_cs.env')\n",
    "\n",
    "image = \"mlrun/mlrun\"\n",
    "project_name = \"monitored-model-runner-naive\"\n",
    "project = mlrun.get_or_create_project(project_name, context=\"./\",user_project=True, allow_cross_project=True)"
   ],
   "outputs": [
    {
     "name": "stdout",
     "output_type": "stream",
     "text": [
      "> 2025-10-30 10:51:52,892 [info] Project loaded successfully: {\"project_name\":\"monitored-model-runner-naive-matanz\"}\n"
     ]
    }
   ],
   "execution_count": 1
  },
  {
   "cell_type": "code",
   "id": "0c5f5474-5f8c-458b-b36a-343431aa1f88",
   "metadata": {
    "ExecuteTime": {
     "end_time": "2025-10-30T08:51:54.008059Z",
     "start_time": "2025-10-30T08:51:52.898291Z"
    }
   },
   "source": [
    "# Import tools\n",
    "import pandas as pd\n",
    "from sklearn.svm import SVC\n",
    "import pickle\n",
    "from sklearn.datasets import load_iris\n",
    "from mlrun.features import Feature"
   ],
   "outputs": [],
   "execution_count": 2
  },
  {
   "cell_type": "code",
   "id": "38d78644-bdea-44c6-aee3-ad404bbc9fa9",
   "metadata": {
    "ExecuteTime": {
     "end_time": "2025-10-30T08:51:55.956840Z",
     "start_time": "2025-10-30T08:51:54.012036Z"
    }
   },
   "source": [
    "# Train simple SVM model on Iris dataset, save it and reformat the DS as list\n",
    "iris = load_iris()\n",
    "clf = SVC()           \n",
    "clf.fit(iris.data, iris.target)\n",
    "with open(\"SVM.pkl\", \"wb\") as fh:\n",
    "    pickle.dump(clf, fh)\n",
    "iris_data = iris[\"data\"].tolist()\n",
    "\n",
    "# load the dataset again as a DF\n",
    "iris = load_iris()\n",
    "train_set = pd.DataFrame(\n",
    "    iris[\"data\"],\n",
    "    columns=[\"sepal_length_cm\", \"sepal_width_cm\", \"petal_length_cm\", \"petal_width_cm\"],\n",
    ")\n",
    "\n",
    "# Create a Model Artifact in the project using the trained model\n",
    "model_name = \"SVM\"\n",
    "model_artifact = project.log_model(\n",
    "    model_name,\n",
    "    model_file=\"SVM.pkl\",\n",
    "    training_set=train_set,\n",
    "    framework=\"sklearn\",\n",
    "    outputs=[Feature(name=\"label\")],\n",
    ")"
   ],
   "outputs": [],
   "execution_count": 3
  },
  {
   "cell_type": "markdown",
   "id": "5b4b3372-a208-4f20-bb72-9e3e72c45105",
   "metadata": {},
   "source": [
    "#### 5. Define your function and ModelRunnerStep\n",
    "\n",
    "Define functions to all the edge cases"
   ]
  },
  {
   "cell_type": "code",
   "id": "555c2132-338e-42a4-94b7-4a7b9766c597",
   "metadata": {
    "ExecuteTime": {
     "end_time": "2025-10-30T08:51:56.062410Z",
     "start_time": "2025-10-30T08:51:56.017278Z"
    }
   },
   "source": [
    "# Config the code path and the serving function sync and async\n",
    "bouth_code_path = r\"model_class_bouth.py\"\n",
    "\n",
    "function = project.set_function(func=bouth_code_path,image=\"mlrun/mlrun\",kind=\"serving\",name=\"bouth\")"
   ],
   "outputs": [],
   "execution_count": 4
  },
  {
   "cell_type": "code",
   "id": "686d4606-1e8b-4495-9b5b-4fec2567405e",
   "metadata": {
    "ExecuteTime": {
     "end_time": "2025-10-30T08:51:56.081906Z",
     "start_time": "2025-10-30T08:51:56.067432Z"
    }
   },
   "source": [
    "from mlrun.serving.states import ModelRunnerStep\n",
    "\n",
    "model_runner_step = ModelRunnerStep(\n",
    "    name=\"my_runner\", model_selector=\"MyModelSelector\",model_selector_parameters={\"name\":\"my-selector\"})\n",
    "\n",
    "for i in range(1000):\n",
    "    model_runner_step.add_model(\n",
    "        model_class=\"MyModel\",\n",
    "        endpoint_name=f\"my-{i}-model\",\n",
    "        model_artifact=model_artifact,\n",
    "        input_path=\"inputs.here\",\n",
    "        result_path=\"outputs\",\n",
    "        outputs=[\"label\"],\n",
    "        execution_mechanism=\"shared_executor\",\n",
    "    )"
   ],
   "outputs": [],
   "execution_count": 5
  },
  {
   "cell_type": "markdown",
   "id": "98ac6bb7-4574-4e34-ab41-00dc6fd39d29",
   "metadata": {},
   "source": [
    "#### 6. Build graphs to all the edge cases\n",
    "\n",
    "description\n"
   ]
  },
  {
   "cell_type": "code",
   "id": "c9c07db1-170f-478d-9d1b-5cc7a700fdcf",
   "metadata": {
    "ExecuteTime": {
     "end_time": "2025-10-30T08:51:56.627343Z",
     "start_time": "2025-10-30T08:51:56.086799Z"
    }
   },
   "source": [
    "async_graph_undefined = function.set_topology(\"flow\",engine=\"async\")\n",
    "async_graph_undefined.to(\"MyPreprocessStep\").to(model_runner_step).to(\"MyEnrichStep\").respond()\n",
    "async_graph_undefined.plot()\n"
   ],
   "outputs": [
    {
     "ename": "TypeError",
     "evalue": "cannot unpack non-iterable NoneType object",
     "output_type": "error",
     "traceback": [
      "\u001B[0;31m---------------------------------------------------------------------------\u001B[0m",
      "\u001B[0;31mTypeError\u001B[0m                                 Traceback (most recent call last)",
      "Cell \u001B[0;32mIn[6], line 2\u001B[0m\n\u001B[1;32m      1\u001B[0m async_graph_undefined \u001B[38;5;241m=\u001B[39m function\u001B[38;5;241m.\u001B[39mset_topology(\u001B[38;5;124m\"\u001B[39m\u001B[38;5;124mflow\u001B[39m\u001B[38;5;124m\"\u001B[39m,engine\u001B[38;5;241m=\u001B[39m\u001B[38;5;124m\"\u001B[39m\u001B[38;5;124masync\u001B[39m\u001B[38;5;124m\"\u001B[39m)\n\u001B[0;32m----> 2\u001B[0m \u001B[43masync_graph_undefined\u001B[49m\u001B[38;5;241;43m.\u001B[39;49m\u001B[43mto\u001B[49m\u001B[43m(\u001B[49m\u001B[38;5;124;43m\"\u001B[39;49m\u001B[38;5;124;43mMyPreprocessStep\u001B[39;49m\u001B[38;5;124;43m\"\u001B[39;49m\u001B[43m)\u001B[49m\u001B[38;5;241;43m.\u001B[39;49m\u001B[43mto\u001B[49m\u001B[43m(\u001B[49m\u001B[43mmodel_runner_step\u001B[49m\u001B[43m)\u001B[49m\u001B[38;5;241m.\u001B[39mto(\u001B[38;5;124m\"\u001B[39m\u001B[38;5;124mMyEnrichStep\u001B[39m\u001B[38;5;124m\"\u001B[39m)\u001B[38;5;241m.\u001B[39mrespond()\n\u001B[1;32m      3\u001B[0m async_graph_undefined\u001B[38;5;241m.\u001B[39mplot()\n",
      "File \u001B[0;32m~/miniconda3/envs/iguazio/lib/python3.9/site-packages/mlrun/serving/states.py:421\u001B[0m, in \u001B[0;36mBaseStep.to\u001B[0;34m(self, class_name, name, handler, graph_shape, function, full_event, input_path, result_path, model_endpoint_creation_strategy, **class_args)\u001B[0m\n\u001B[1;32m    419\u001B[0m \u001B[38;5;66;03m# Make sure model endpoint was not introduce in ModelRunnerStep\u001B[39;00m\n\u001B[1;32m    420\u001B[0m \u001B[38;5;28mself\u001B[39m\u001B[38;5;241m.\u001B[39mcheck_model_endpoint_existence(step, model_endpoint_creation_strategy)\n\u001B[0;32m--> 421\u001B[0m \u001B[38;5;28;43mself\u001B[39;49m\u001B[38;5;241;43m.\u001B[39;49m\u001B[43mverify_model_runner_step\u001B[49m\u001B[43m(\u001B[49m\u001B[43mstep\u001B[49m\u001B[43m)\u001B[49m\n\u001B[1;32m    423\u001B[0m step \u001B[38;5;241m=\u001B[39m parent\u001B[38;5;241m.\u001B[39m_steps\u001B[38;5;241m.\u001B[39mupdate(name, step)\n\u001B[1;32m    424\u001B[0m step\u001B[38;5;241m.\u001B[39mset_parent(parent)\n",
      "File \u001B[0;32m~/miniconda3/envs/iguazio/lib/python3.9/site-packages/mlrun/serving/states.py:547\u001B[0m, in \u001B[0;36mBaseStep.verify_model_runner_step\u001B[0;34m(self, step, step_model_endpoints_names, verify_shared_models)\u001B[0m\n\u001B[1;32m    541\u001B[0m     \u001B[38;5;28;01mraise\u001B[39;00m GraphError(\n\u001B[1;32m    542\u001B[0m         \u001B[38;5;124mf\u001B[39m\u001B[38;5;124m\"\u001B[39m\u001B[38;5;124mThe graph already contains the model endpoints named - \u001B[39m\u001B[38;5;132;01m{\u001B[39;00mcommon_endpoints_names\u001B[38;5;132;01m}\u001B[39;00m\u001B[38;5;124m.\u001B[39m\u001B[38;5;124m\"\u001B[39m\n\u001B[1;32m    543\u001B[0m     )\n\u001B[1;32m    545\u001B[0m \u001B[38;5;28;01mif\u001B[39;00m verify_shared_models:\n\u001B[1;32m    546\u001B[0m     \u001B[38;5;66;03m# Check if shared models are defined in the graph\u001B[39;00m\n\u001B[0;32m--> 547\u001B[0m     \u001B[38;5;28;43mself\u001B[39;49m\u001B[38;5;241;43m.\u001B[39;49m\u001B[43m_verify_shared_models\u001B[49m\u001B[43m(\u001B[49m\u001B[43mroot\u001B[49m\u001B[43m,\u001B[49m\u001B[43m \u001B[49m\u001B[43mstep\u001B[49m\u001B[43m,\u001B[49m\u001B[43m \u001B[49m\u001B[43mstep_model_endpoints_names\u001B[49m\u001B[43m)\u001B[49m\n\u001B[1;32m    548\u001B[0m \u001B[38;5;66;03m# Update model endpoints names in the root step\u001B[39;00m\n\u001B[1;32m    549\u001B[0m root\u001B[38;5;241m.\u001B[39mupdate_model_endpoints_names(step_model_endpoints_names)\n",
      "File \u001B[0;32m~/miniconda3/envs/iguazio/lib/python3.9/site-packages/mlrun/serving/states.py:590\u001B[0m, in \u001B[0;36mBaseStep._verify_shared_models\u001B[0;34m(self, root, step, step_model_endpoints_names)\u001B[0m\n\u001B[1;32m    586\u001B[0m     llm_artifact_uri \u001B[38;5;241m=\u001B[39m llm_artifact\u001B[38;5;241m.\u001B[39muri\n\u001B[1;32m    587\u001B[0m     model_artifact_uri \u001B[38;5;241m=\u001B[39m mlrun\u001B[38;5;241m.\u001B[39mutils\u001B[38;5;241m.\u001B[39mremove_tag_from_artifact_uri(\n\u001B[1;32m    588\u001B[0m         llm_artifact\u001B[38;5;241m.\u001B[39mspec\u001B[38;5;241m.\u001B[39mparent_uri\n\u001B[1;32m    589\u001B[0m     )\n\u001B[0;32m--> 590\u001B[0m actual_shared_name, shared_model_class, shared_model_params \u001B[38;5;241m=\u001B[39m (\n\u001B[1;32m    591\u001B[0m     root\u001B[38;5;241m.\u001B[39mget_shared_model_by_artifact_uri(model_artifact_uri)\n\u001B[1;32m    592\u001B[0m )\n\u001B[1;32m    594\u001B[0m \u001B[38;5;28;01mif\u001B[39;00m \u001B[38;5;129;01mnot\u001B[39;00m shared_runnable_name:\n\u001B[1;32m    595\u001B[0m     \u001B[38;5;28;01mif\u001B[39;00m \u001B[38;5;129;01mnot\u001B[39;00m actual_shared_name:\n",
      "\u001B[0;31mTypeError\u001B[0m: cannot unpack non-iterable NoneType object"
     ]
    }
   ],
   "execution_count": 6
  },
  {
   "cell_type": "markdown",
   "id": "df7f8407-c5d1-4ed9-82e5-e9ae2782df40",
   "metadata": {},
   "source": [
    "#### Run using mock\n",
    "\n",
    "descteption"
   ]
  },
  {
   "cell_type": "code",
   "id": "aef9c427-9630-4c11-a949-a1bc8e7cc241",
   "metadata": {
    "scrolled": true,
    "tags": []
   },
   "source": [
    "# 4. create mock server and test it locally (no k8s / deployment)\n",
    "\n",
    "mock_server = function.to_mock_server()"
   ],
   "outputs": [],
   "execution_count": null
  },
  {
   "cell_type": "code",
   "id": "8e6be3af-c956-498f-b4a8-8311a974b096",
   "metadata": {},
   "source": [
    "mock_server"
   ],
   "outputs": [],
   "execution_count": null
  },
  {
   "cell_type": "code",
   "id": "843b895b-0f8c-4d92-9ba8-677b2097a586",
   "metadata": {},
   "source": [
    "from random import choice\n",
    "from datetime import datetime\n",
    "\n",
    "iris_data = iris[\"data\"].tolist()\n",
    "data_point = choice(iris_data)\n",
    "print(f\"Data point:{data_point}\")\n",
    "\n",
    "time_before = datetime.now()\n",
    "print(\"Before invoke:\", time_before.strftime(\"%H:%M:%S.%f\"))\n",
    "moke_response = mock_server.test(\n",
    "    \"/\",\n",
    "    body={\n",
    "        \"models\": None,\n",
    "        \"inputs\": [data_point, data_point],\n",
    "    },\n",
    ")\n",
    "time_after = datetime.now()\n",
    "print(\"After invoke:\", time_after.strftime(\"%H:%M:%S.%f\"))\n",
    "total_time = (time_after - time_before).total_seconds()\n",
    "\n"
   ],
   "outputs": [],
   "execution_count": null
  },
  {
   "cell_type": "code",
   "id": "742bd30c-2228-4496-9616-f91b5d267e79",
   "metadata": {},
   "source": [
    "print(f\"Total time: {total_time:.3f} seconds\")"
   ],
   "outputs": [],
   "execution_count": null
  },
  {
   "cell_type": "code",
   "id": "8da639b7-8786-45d9-850d-4a4ca5ebe3ab",
   "metadata": {
    "scrolled": true,
    "tags": []
   },
   "source": [
    "#moke_response"
   ],
   "outputs": [],
   "execution_count": null
  },
  {
   "cell_type": "markdown",
   "id": "45d9626a-6b61-4373-806a-2581754b297c",
   "metadata": {},
   "source": [
    "#### 7. Deploying Your Function\n",
    "\n",
    "Running this cell will deploy your serving function to the cluster. This also deploys the real-time monitoring functions for your project, which are configured to track the serving function's performance and detect model drift."
   ]
  },
  {
   "cell_type": "code",
   "id": "f6adb3dd-166c-4d02-93cc-116d5cbd23d8",
   "metadata": {},
   "source": [
    "function.deploy()"
   ],
   "outputs": [],
   "execution_count": null
  },
  {
   "cell_type": "code",
   "id": "f487080f-65c0-4a36-88d2-b8366883a91a",
   "metadata": {},
   "source": [
    "iris_data = iris[\"data\"].tolist()\n",
    "data_point = choice(iris_data)\n",
    "print(f\"Data point:{data_point}\")\n",
    "\n",
    "\n",
    "print(\"Before async_sync_function invoke:\", datetime.now().strftime(\"%H:%M:%S.%f\"))\n",
    "deploy_response = function.invoke(\n",
    "    \"/\",\n",
    "    body={\n",
    "        \"models\": None,\n",
    "        \"inputs\": [data_point, data_point],\n",
    "    },\n",
    ")\n",
    "print(\"After invoke:\", datetime.now().strftime(\"%H:%M:%S.%f\"))\n",
    "total_time = (time_after - time_before).total_seconds()\n"
   ],
   "outputs": [],
   "execution_count": null
  },
  {
   "cell_type": "code",
   "id": "431325cd-686f-4374-ad2c-3b5e89d905fa",
   "metadata": {},
   "source": [
    "print(f\"Total time: {total_time:.3f} seconds\")"
   ],
   "outputs": [],
   "execution_count": null
  },
  {
   "cell_type": "code",
   "id": "93540b6d-cf63-4391-abc6-01606ed4bb14",
   "metadata": {
    "scrolled": true,
    "tags": []
   },
   "source": [
    "#deploy_response"
   ],
   "outputs": [],
   "execution_count": null
  }
 ],
 "metadata": {
  "kernelspec": {
   "display_name": "Python 3 (ipykernel)",
   "language": "python",
   "name": "python3"
  },
  "language_info": {
   "codemirror_mode": {
    "name": "ipython",
    "version": 3
   },
   "file_extension": ".py",
   "mimetype": "text/x-python",
   "name": "python",
   "nbconvert_exporter": "python",
   "pygments_lexer": "ipython3",
   "version": "3.9.18"
  }
 },
 "nbformat": 4,
 "nbformat_minor": 5
}
