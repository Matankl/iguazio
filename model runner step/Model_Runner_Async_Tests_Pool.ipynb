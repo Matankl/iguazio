{
 "cells": [
  {
   "metadata": {},
   "cell_type": "markdown",
   "source": [
    "#### 1. **Model Runner Step Sync And Async Testing**\n",
    "\n",
    "Notebook tests `ModelRunnerStep` within a serving graph to enable real-time monitoring and drift detection with MLRun.\n",
    "The main focus is to test te preformance of sync and async usage."
   ],
   "id": "37e11bb3-38fd-4bfd-9957-1aae57aeb548"
  },
  {
   "cell_type": "code",
   "id": "c7231eb5-6e4b-4287-b4b8-cd183bb3aa37",
   "metadata": {
    "ExecuteTime": {
     "end_time": "2025-10-29T10:06:55.141622Z",
     "start_time": "2025-10-29T10:06:54.067735Z"
    }
   },
   "source": [
    "# Import mlrun and create project instance\n",
    "import mlrun\n",
    "\n",
    "image = \"mlrun/mlrun\"\n",
    "mlrun.set_env_from_file('../cust_cs.env')\n",
    "project_name = \"monitored-model-runner-naive\"\n",
    "project = mlrun.get_or_create_project(project_name, context=\"./\",user_project=True, allow_cross_project=True)"
   ],
   "outputs": [
    {
     "name": "stdout",
     "output_type": "stream",
     "text": [
      "> 2025-10-29 12:06:54,964 [info] Server and client versions are not the same but compatible: {\"parsed_client_version\":\"Version(major=1, minor=9, patch=2, prerelease=None, build=None)\",\"parsed_server_version\":\"Version(major=1, minor=10, patch=0, prerelease='rc37', build=None)\"}\n",
      "> 2025-10-29 12:06:55,139 [info] Project loaded successfully: {\"project_name\":\"monitored-model-runner-naive-matanz\"}\n"
     ]
    }
   ],
   "execution_count": 9
  },
  {
   "cell_type": "code",
   "id": "0c5f5474-5f8c-458b-b36a-343431aa1f88",
   "metadata": {
    "ExecuteTime": {
     "end_time": "2025-10-28T15:31:34.308976Z",
     "start_time": "2025-10-28T15:31:34.306127Z"
    }
   },
   "source": [
    "# Import tools\n",
    "import pandas as pd\n",
    "from sklearn.svm import SVC\n",
    "import pickle\n",
    "from sklearn.datasets import load_iris\n",
    "from mlrun.features import Feature"
   ],
   "outputs": [],
   "execution_count": 4
  },
  {
   "cell_type": "code",
   "id": "38d78644-bdea-44c6-aee3-ad404bbc9fa9",
   "metadata": {
    "ExecuteTime": {
     "end_time": "2025-10-28T15:31:34.510965Z",
     "start_time": "2025-10-28T15:31:34.462927Z"
    }
   },
   "source": [
    "# Train simple SVM model on Iris dataset, save it and reformat the DS as list\n",
    "iris = load_iris()\n",
    "clf = SVC()           \n",
    "clf.fit(iris.data, iris.target)\n",
    "with open(\"SVM.pkl\", \"wb\") as fh:\n",
    "    pickle.dump(clf, fh)\n",
    "iris_data = iris[\"data\"].tolist()\n",
    "\n",
    "# load the dataset again as a DF\n",
    "iris = load_iris()\n",
    "train_set = pd.DataFrame(\n",
    "    iris[\"data\"],\n",
    "    columns=[\"sepal_length_cm\", \"sepal_width_cm\", \"petal_length_cm\", \"petal_width_cm\"],\n",
    ")\n",
    "\n",
    "# Create a Model Artifact in the project using the trained model\n",
    "model_name = \"SVM\"\n",
    "model_artifact = project.log_model(\n",
    "    model_name,\n",
    "    model_file=\"SVM.pkl\",\n",
    "    training_set=train_set,\n",
    "    framework=\"sklearn\",\n",
    "    outputs=[Feature(name=\"label\")],\n",
    ")"
   ],
   "outputs": [
    {
     "name": "stdout",
     "output_type": "stream",
     "text": [
      "> 2025-10-28 17:31:34,509 [warning] Could not detect path to API server, not connected to API server!\n",
      "> 2025-10-28 17:31:34,509 [warning] MLRUN_DBPATH is misconfigured. Set this environment variable to the URL of the API server in order to connect\n"
     ]
    }
   ],
   "execution_count": 5
  },
  {
   "cell_type": "markdown",
   "id": "5b4b3372-a208-4f20-bb72-9e3e72c45105",
   "metadata": {},
   "source": [
    "#### 5. Define your function and ModelRunnerStep\n",
    "\n",
    "Define functions to all the edge cases"
   ]
  },
  {
   "cell_type": "code",
   "id": "555c2132-338e-42a4-94b7-4a7b9766c597",
   "metadata": {
    "ExecuteTime": {
     "end_time": "2025-10-28T15:31:36.389427Z",
     "start_time": "2025-10-28T15:31:36.311163Z"
    }
   },
   "source": [
    "# Config the code path and the serving function sync and async\n",
    "sync_code_path = r\"model_class_sync.py\"\n",
    "bouth_code_path = r\"model_class_bouth.py\"\n",
    "\n",
    "async_sync_function = project.set_function(func=sync_code_path,image=\"mlrun/mlrun\",kind=\"serving\",name=\"async\")\n",
    "bouth_function = project.set_function(func=bouth_code_path,image=\"mlrun/mlrun\",kind=\"serving\",name=\"bouth\")"
   ],
   "outputs": [],
   "execution_count": 6
  },
  {
   "cell_type": "code",
   "id": "686d4606-1e8b-4495-9b5b-4fec2567405e",
   "metadata": {
    "ExecuteTime": {
     "end_time": "2025-10-28T15:31:38.706888Z",
     "start_time": "2025-10-28T15:31:38.610588Z"
    }
   },
   "source": [
    "from mlrun.serving.states import ModelRunnerStep\n",
    "\n",
    "model_runner_step = ModelRunnerStep(\n",
    "    name=\"my_runner\", model_selector=\"MyModelSelector\",model_selector_parameters={\"name\":\"my-selector\"})\n",
    "\n",
    "for i in range(100):\n",
    "    model_runner_step.add_model(\n",
    "        model_class=\"MyModel\",\n",
    "        endpoint_name=f\"my-{i}-model\",\n",
    "        model_artifact=model_artifact,\n",
    "        input_path=\"inputs.here\",\n",
    "        result_path=\"outputs\",\n",
    "        outputs=[\"label\"],\n",
    "        execution_mechanism=\"asyncio\",\n",
    "    )"
   ],
   "outputs": [
    {
     "ename": "TypeError",
     "evalue": "__init__() got an unexpected keyword argument 'model_selector_parameters'",
     "output_type": "error",
     "traceback": [
      "\u001B[0;31m---------------------------------------------------------------------------\u001B[0m",
      "\u001B[0;31mTypeError\u001B[0m                                 Traceback (most recent call last)",
      "Cell \u001B[0;32mIn[7], line 3\u001B[0m\n\u001B[1;32m      1\u001B[0m \u001B[38;5;28;01mfrom\u001B[39;00m\u001B[38;5;250m \u001B[39m\u001B[38;5;21;01mmlrun\u001B[39;00m\u001B[38;5;21;01m.\u001B[39;00m\u001B[38;5;21;01mserving\u001B[39;00m\u001B[38;5;21;01m.\u001B[39;00m\u001B[38;5;21;01mstates\u001B[39;00m\u001B[38;5;250m \u001B[39m\u001B[38;5;28;01mimport\u001B[39;00m ModelRunnerStep\n\u001B[0;32m----> 3\u001B[0m model_runner_step \u001B[38;5;241m=\u001B[39m \u001B[43mModelRunnerStep\u001B[49m\u001B[43m(\u001B[49m\n\u001B[1;32m      4\u001B[0m \u001B[43m    \u001B[49m\u001B[43mname\u001B[49m\u001B[38;5;241;43m=\u001B[39;49m\u001B[38;5;124;43m\"\u001B[39;49m\u001B[38;5;124;43mmy_runner\u001B[39;49m\u001B[38;5;124;43m\"\u001B[39;49m\u001B[43m,\u001B[49m\u001B[43m \u001B[49m\u001B[43mmodel_selector\u001B[49m\u001B[38;5;241;43m=\u001B[39;49m\u001B[38;5;124;43m\"\u001B[39;49m\u001B[38;5;124;43mMyModelSelector\u001B[39;49m\u001B[38;5;124;43m\"\u001B[39;49m\u001B[43m,\u001B[49m\u001B[43mmodel_selector_parameters\u001B[49m\u001B[38;5;241;43m=\u001B[39;49m\u001B[43m{\u001B[49m\u001B[38;5;124;43m\"\u001B[39;49m\u001B[38;5;124;43mname\u001B[39;49m\u001B[38;5;124;43m\"\u001B[39;49m\u001B[43m:\u001B[49m\u001B[38;5;124;43m\"\u001B[39;49m\u001B[38;5;124;43mmy-selector\u001B[39;49m\u001B[38;5;124;43m\"\u001B[39;49m\u001B[43m}\u001B[49m\u001B[43m)\u001B[49m\n\u001B[1;32m      6\u001B[0m \u001B[38;5;28;01mfor\u001B[39;00m i \u001B[38;5;129;01min\u001B[39;00m \u001B[38;5;28mrange\u001B[39m(\u001B[38;5;241m100\u001B[39m):\n\u001B[1;32m      7\u001B[0m     model_runner_step\u001B[38;5;241m.\u001B[39madd_model(\n\u001B[1;32m      8\u001B[0m         model_class\u001B[38;5;241m=\u001B[39m\u001B[38;5;124m\"\u001B[39m\u001B[38;5;124mMyModel\u001B[39m\u001B[38;5;124m\"\u001B[39m,\n\u001B[1;32m      9\u001B[0m         endpoint_name\u001B[38;5;241m=\u001B[39m\u001B[38;5;124mf\u001B[39m\u001B[38;5;124m\"\u001B[39m\u001B[38;5;124mmy-\u001B[39m\u001B[38;5;132;01m{\u001B[39;00mi\u001B[38;5;132;01m}\u001B[39;00m\u001B[38;5;124m-model\u001B[39m\u001B[38;5;124m\"\u001B[39m,\n\u001B[0;32m   (...)\u001B[0m\n\u001B[1;32m     14\u001B[0m         execution_mechanism\u001B[38;5;241m=\u001B[39m\u001B[38;5;124m\"\u001B[39m\u001B[38;5;124masyncio\u001B[39m\u001B[38;5;124m\"\u001B[39m,\n\u001B[1;32m     15\u001B[0m     )\n",
      "File \u001B[0;32m~/miniconda3/envs/iguazio/lib/python3.9/site-packages/mlrun/serving/states.py:1001\u001B[0m, in \u001B[0;36mModelRunnerStep.__init__\u001B[0;34m(self, model_selector, *args, **kwargs)\u001B[0m\n\u001B[1;32m    995\u001B[0m \u001B[38;5;28;01mdef\u001B[39;00m\u001B[38;5;250m \u001B[39m\u001B[38;5;21m__init__\u001B[39m(\n\u001B[1;32m    996\u001B[0m     \u001B[38;5;28mself\u001B[39m,\n\u001B[1;32m    997\u001B[0m     \u001B[38;5;241m*\u001B[39margs,\n\u001B[1;32m    998\u001B[0m     model_selector: Optional[Union[\u001B[38;5;28mstr\u001B[39m, ModelSelector]] \u001B[38;5;241m=\u001B[39m \u001B[38;5;28;01mNone\u001B[39;00m,\n\u001B[1;32m    999\u001B[0m     \u001B[38;5;241m*\u001B[39m\u001B[38;5;241m*\u001B[39mkwargs,\n\u001B[1;32m   1000\u001B[0m ):\n\u001B[0;32m-> 1001\u001B[0m     \u001B[38;5;28;43msuper\u001B[39;49m\u001B[43m(\u001B[49m\u001B[43m)\u001B[49m\u001B[38;5;241;43m.\u001B[39;49m\u001B[38;5;21;43m__init__\u001B[39;49m\u001B[43m(\u001B[49m\n\u001B[1;32m   1002\u001B[0m \u001B[43m        \u001B[49m\u001B[38;5;241;43m*\u001B[39;49m\u001B[43margs\u001B[49m\u001B[43m,\u001B[49m\n\u001B[1;32m   1003\u001B[0m \u001B[43m        \u001B[49m\u001B[43mclass_name\u001B[49m\u001B[38;5;241;43m=\u001B[39;49m\u001B[38;5;124;43m\"\u001B[39;49m\u001B[38;5;124;43mmlrun.serving.ModelRunner\u001B[39;49m\u001B[38;5;124;43m\"\u001B[39;49m\u001B[43m,\u001B[49m\n\u001B[1;32m   1004\u001B[0m \u001B[43m        \u001B[49m\u001B[43mclass_args\u001B[49m\u001B[38;5;241;43m=\u001B[39;49m\u001B[38;5;28;43mdict\u001B[39;49m\u001B[43m(\u001B[49m\u001B[43mmodel_selector\u001B[49m\u001B[38;5;241;43m=\u001B[39;49m\u001B[43mmodel_selector\u001B[49m\u001B[43m)\u001B[49m\u001B[43m,\u001B[49m\n\u001B[1;32m   1005\u001B[0m \u001B[43m        \u001B[49m\u001B[38;5;241;43m*\u001B[39;49m\u001B[38;5;241;43m*\u001B[39;49m\u001B[43mkwargs\u001B[49m\u001B[43m,\u001B[49m\n\u001B[1;32m   1006\u001B[0m \u001B[43m    \u001B[49m\u001B[43m)\u001B[49m\n",
      "\u001B[0;31mTypeError\u001B[0m: __init__() got an unexpected keyword argument 'model_selector_parameters'"
     ]
    }
   ],
   "execution_count": 7
  },
  {
   "cell_type": "markdown",
   "id": "98ac6bb7-4574-4e34-ab41-00dc6fd39d29",
   "metadata": {},
   "source": [
    "#### 6. Build graphs to all the edge cases\n",
    "\n",
    "description\n"
   ]
  },
  {
   "cell_type": "code",
   "id": "c9c07db1-170f-478d-9d1b-5cc7a700fdcf",
   "metadata": {},
   "source": [
    "async_graph_defined = bouth_function.set_topology(\"flow\",engine=\"async\")\n",
    "async_graph_defined.to(\"MyPreprocessStep\").to(model_runner_step).to(\"MyEnrichStep\").respond()\n",
    "async_graph_defined.plot()\n",
    "\n",
    "async_graph_undefined = async_sync_function.set_topology(\"flow\",engine=\"async\")\n",
    "async_graph_undefined.to(\"MyPreprocessStep\").to(model_runner_step).to(\"MyEnrichStep\").respond()\n",
    "async_graph_undefined.plot()\n"
   ],
   "outputs": [],
   "execution_count": null
  },
  {
   "cell_type": "markdown",
   "id": "df7f8407-c5d1-4ed9-82e5-e9ae2782df40",
   "metadata": {},
   "source": [
    "#### Run using mock\n",
    "\n",
    "descteption"
   ]
  },
  {
   "cell_type": "code",
   "id": "aef9c427-9630-4c11-a949-a1bc8e7cc241",
   "metadata": {},
   "source": [
    "# 4. create mock server and test it locally (no k8s / deployment)\n",
    "\n",
    "async_undefined_mock_server = bouth_function.to_mock_server()\n",
    "async_defined_mock_server = async_sync_function.to_mock_server()"
   ],
   "outputs": [],
   "execution_count": null
  },
  {
   "cell_type": "code",
   "id": "8e6be3af-c956-498f-b4a8-8311a974b096",
   "metadata": {},
   "source": [
    "async_undefined_mock_server\n",
    "async_defined_mock_server\n"
   ],
   "outputs": [],
   "execution_count": null
  },
  {
   "cell_type": "code",
   "id": "843b895b-0f8c-4d92-9ba8-677b2097a586",
   "metadata": {},
   "source": [
    "from random import choice\n",
    "from datetime import datetime\n",
    "\n",
    "iris_data = iris[\"data\"].tolist()\n",
    "data_point = choice(iris_data)\n",
    "print(f\"Data point:{data_point}\")\n",
    "\n",
    "\n",
    "print(\"Before async_sync_function invoke:\", datetime.now().strftime(\"%H:%M:%S.%f\"))\n",
    "async_sync_response = async_undefined_mock_server.test(\n",
    "    \"/\",\n",
    "    body={\n",
    "        \"models\": None,\n",
    "        \"inputs\": [data_point, data_point],\n",
    "    },\n",
    ")\n",
    "print(\"After invoke:\", datetime.now().strftime(\"%H:%M:%S.%f\"))\n"
   ],
   "outputs": [],
   "execution_count": null
  },
  {
   "cell_type": "code",
   "id": "8da639b7-8786-45d9-850d-4a4ca5ebe3ab",
   "metadata": {},
   "source": [
    "async_sync_response"
   ],
   "outputs": [],
   "execution_count": null
  },
  {
   "cell_type": "code",
   "id": "57b1cfc9-64b1-4112-aa94-1d6dfc108502",
   "metadata": {},
   "source": [
    "iris_data = iris[\"data\"].tolist()\n",
    "data_point = choice(iris_data)\n",
    "print(f\"Data point:{data_point}\")\n",
    "\n",
    "\n",
    "print(\"Before async_sync_function invoke:\", datetime.now().strftime(\"%H:%M:%S.%f\"))\n",
    "async_sync_response = async_defined_mock_server.test(\n",
    "    \"/\",\n",
    "    body={\n",
    "        \"models\": None,\n",
    "        \"inputs\": [data_point, data_point],\n",
    "    },\n",
    ")\n",
    "print(\"After invoke:\", datetime.now().strftime(\"%H:%M:%S.%f\"))\n"
   ],
   "outputs": [],
   "execution_count": null
  },
  {
   "cell_type": "code",
   "id": "769fd945-e2e5-424f-8209-9a79a9073e68",
   "metadata": {},
   "source": [
    "async_sync_response"
   ],
   "outputs": [],
   "execution_count": null
  },
  {
   "cell_type": "markdown",
   "id": "45d9626a-6b61-4373-806a-2581754b297c",
   "metadata": {},
   "source": [
    "#### 7. Deploying Your Function\n",
    "\n",
    "Running this cell will deploy your serving function to the cluster. This also deploys the real-time monitoring functions for your project, which are configured to track the serving function's performance and detect model drift."
   ]
  },
  {
   "cell_type": "code",
   "id": "f6adb3dd-166c-4d02-93cc-116d5cbd23d8",
   "metadata": {},
   "source": [
    "async_sync_function.deploy()\n",
    "bouth_function.deploy()"
   ],
   "outputs": [],
   "execution_count": null
  },
  {
   "cell_type": "code",
   "id": "f487080f-65c0-4a36-88d2-b8366883a91a",
   "metadata": {},
   "source": [
    "iris_data = iris[\"data\"].tolist()\n",
    "data_point = choice(iris_data)\n",
    "print(f\"Data point:{data_point}\")\n",
    "\n",
    "\n",
    "print(\"Before async_sync_function invoke:\", datetime.now().strftime(\"%H:%M:%S.%f\"))\n",
    "async_sync_response = async_sync_function.invoke(\n",
    "    \"/\",\n",
    "    body={\n",
    "        \"models\": None,\n",
    "        \"inputs\": [data_point, data_point],\n",
    "    },\n",
    ")\n",
    "print(\"After invoke:\", datetime.now().strftime(\"%H:%M:%S.%f\"))"
   ],
   "outputs": [],
   "execution_count": null
  },
  {
   "cell_type": "code",
   "id": "93540b6d-cf63-4391-abc6-01606ed4bb14",
   "metadata": {},
   "source": [
    "async_sync_response"
   ],
   "outputs": [],
   "execution_count": null
  },
  {
   "cell_type": "code",
   "id": "981ece49-c309-4ccb-a8ba-1892c7bad717",
   "metadata": {},
   "source": [
    "iris_data = iris[\"data\"].tolist()\n",
    "data_point = choice(iris_data)\n",
    "print(f\"Data point:{data_point}\")\n",
    "\n",
    "\n",
    "print(\"Before bouth_function invoke:\", datetime.now().strftime(\"%H:%M:%S.%f\"))\n",
    "bouth_response = bouth_function.invoke(\n",
    "    \"/\",\n",
    "    body={\n",
    "        \"models\": None,\n",
    "        \"inputs\": [data_point, data_point],\n",
    "    },\n",
    ")\n",
    "print(\"After invoke:\", datetime.now().strftime(\"%H:%M:%S.%f\"))"
   ],
   "outputs": [],
   "execution_count": null
  },
  {
   "cell_type": "code",
   "id": "e11051f9-159b-48b4-acf3-392706d52008",
   "metadata": {},
   "source": [
    "bouth_response"
   ],
   "outputs": [],
   "execution_count": null
  },
  {
   "cell_type": "code",
   "id": "22f79a06-2dc1-4f44-bfd2-8f4dd1de15fc",
   "metadata": {},
   "source": [
    "from random import choice\n",
    "\n",
    "iris_data = iris[\"data\"].tolist()\n",
    "data_point = choice(iris_data)\n",
    "print(f\"Data point:{data_point}\")\n",
    "response = function.invoke(\n",
    "    \"/\", body={\"models\": ['my-13-model','my-16-model'], \"inputs\": [data_point, data_point]}\n",
    ")"
   ],
   "outputs": [],
   "execution_count": null
  },
  {
   "cell_type": "code",
   "id": "b645c416-b05a-4a8d-ac6c-5f075a5a35cf",
   "metadata": {},
   "source": [
    "response"
   ],
   "outputs": [],
   "execution_count": null
  },
  {
   "cell_type": "code",
   "id": "c72c7e37-d552-41c2-8822-7eb67270e08e",
   "metadata": {},
   "source": [],
   "outputs": [],
   "execution_count": null
  },
  {
   "cell_type": "code",
   "id": "7515c00b-efb5-4bea-bbfe-2b4709e4373b",
   "metadata": {},
   "source": [],
   "outputs": [],
   "execution_count": null
  },
  {
   "cell_type": "code",
   "id": "23484583-8301-4ad8-a2b6-0b7d0507b2b8",
   "metadata": {},
   "source": [],
   "outputs": [],
   "execution_count": null
  },
  {
   "cell_type": "markdown",
   "id": "0e59370b-81bf-472b-94e8-c37d4be77744",
   "metadata": {},
   "source": [
    "# TODO\n",
    "2. Check if we get a warning when we try to run async when there is no \"async predict\" \n",
    "    \n",
    "3. Check if the async work as expected\n",
    "\n",
    "4. Try to add different prompts to the same model using async, and inspect the behavior\n"
   ]
  },
  {
   "cell_type": "code",
   "id": "bb55242e-17c2-4fa0-b83f-6c6069c0c98f",
   "metadata": {},
   "source": [],
   "outputs": [],
   "execution_count": null
  },
  {
   "cell_type": "code",
   "id": "12d71e72-b355-431c-9d74-70532725298d",
   "metadata": {},
   "source": [],
   "outputs": [],
   "execution_count": null
  }
 ],
 "metadata": {
  "kernelspec": {
   "display_name": "Python 3 (ipykernel)",
   "language": "python",
   "name": "python3"
  },
  "language_info": {
   "codemirror_mode": {
    "name": "ipython",
    "version": 3
   },
   "file_extension": ".py",
   "mimetype": "text/x-python",
   "name": "python",
   "nbconvert_exporter": "python",
   "pygments_lexer": "ipython3",
   "version": "3.9.18"
  }
 },
 "nbformat": 4,
 "nbformat_minor": 5
}
