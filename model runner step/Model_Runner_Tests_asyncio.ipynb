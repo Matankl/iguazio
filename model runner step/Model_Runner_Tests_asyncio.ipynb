{
 "cells": [
  {
   "cell_type": "markdown",
   "id": "37e11bb3-38fd-4bfd-9957-1aae57aeb548",
   "metadata": {},
   "source": [
    "#### 1. **Model Runner Step Sync And Async Testing**\n",
    "\n",
    "Notebook tests `ModelRunnerStep` within a serving graph to enable real-time monitoring and drift detection with MLRun. \n",
    "The main focus is to test te preformance of sync and async usage."
   ]
  },
  {
   "cell_type": "code",
   "execution_count": 1,
   "id": "c7231eb5-6e4b-4287-b4b8-cd183bb3aa37",
   "metadata": {},
   "outputs": [
    {
     "name": "stdout",
     "output_type": "stream",
     "text": [
      "> 2025-10-27 15:15:11,848 [info] Project loaded successfully: {\"project_name\":\"monitored-model-runner-asyncio-matanz\"}\n"
     ]
    }
   ],
   "source": [
    "# Import mlrun and create project instance\n",
    "import mlrun\n",
    "\n",
    "image = \"mlrun/mlrun\"\n",
    "project_name = \"monitored-model-runner-asyncio\"\n",
    "project = mlrun.get_or_create_project(project_name, context=\"./\",user_project=True, allow_cross_project=True)"
   ]
  },
  {
   "cell_type": "code",
   "execution_count": 2,
   "id": "0c5f5474-5f8c-458b-b36a-343431aa1f88",
   "metadata": {},
   "outputs": [],
   "source": [
    "# Import tools\n",
    "import pandas as pd\n",
    "from sklearn.svm import SVC\n",
    "import pickle\n",
    "from sklearn.datasets import load_iris\n",
    "from mlrun.features import Feature"
   ]
  },
  {
   "cell_type": "code",
   "execution_count": 3,
   "id": "38d78644-bdea-44c6-aee3-ad404bbc9fa9",
   "metadata": {},
   "outputs": [],
   "source": [
    "# Train simple SVM model on Iris dataset, save it and reformat the DS as list\n",
    "iris = load_iris()\n",
    "clf = SVC()           \n",
    "clf.fit(iris.data, iris.target)\n",
    "with open(\"SVM.pkl\", \"wb\") as fh:\n",
    "    pickle.dump(clf, fh)\n",
    "iris_data = iris[\"data\"].tolist()\n",
    "\n",
    "# load the dataset again as a DF\n",
    "iris = load_iris()\n",
    "train_set = pd.DataFrame(\n",
    "    iris[\"data\"],\n",
    "    columns=[\"sepal_length_cm\", \"sepal_width_cm\", \"petal_length_cm\", \"petal_width_cm\"],\n",
    ")\n",
    "\n",
    "# Create a Model Artifact in the project using the trained model\n",
    "model_name = \"SVM\"\n",
    "model_artifact = project.log_model(\n",
    "    model_name,\n",
    "    model_file=\"SVM.pkl\",\n",
    "    training_set=train_set,\n",
    "    framework=\"sklearn\",\n",
    "    outputs=[Feature(name=\"label\")],\n",
    ")"
   ]
  },
  {
   "cell_type": "markdown",
   "id": "5b4b3372-a208-4f20-bb72-9e3e72c45105",
   "metadata": {},
   "source": [
    "#### 5. Define your function and ModelRunnerStep\n",
    "\n",
    "Define functions to all the edge cases"
   ]
  },
  {
   "cell_type": "code",
   "execution_count": 4,
   "id": "555c2132-338e-42a4-94b7-4a7b9766c597",
   "metadata": {},
   "outputs": [],
   "source": [
    "# Config the code path and the serving function sync and async\n",
    "sync_code_path = r\"model_class_sync.py\"\n",
    "bouth_code_path = r\"model_class_bouth.py\"\n",
    "\n",
    "async_sync_function = project.set_function(func=sync_code_path,image=\"mlrun/mlrun\",kind=\"serving\",name=\"async\")\n",
    "bouth_function = project.set_function(func=bouth_code_path,image=\"mlrun/mlrun\",kind=\"serving\",name=\"bouth\")"
   ]
  },
  {
   "cell_type": "code",
   "execution_count": 5,
   "id": "686d4606-1e8b-4495-9b5b-4fec2567405e",
   "metadata": {},
   "outputs": [],
   "source": [
    "from mlrun.serving.states import ModelRunnerStep\n",
    "\n",
    "model_runner_step = ModelRunnerStep(\n",
    "    name=\"my_runner\", model_selector=\"MyModelSelector\",model_selector_parameters={\"name\":\"my-selector\"})\n",
    "\n",
    "for i in range(10):\n",
    "    model_runner_step.add_model(\n",
    "        model_class=\"MyModel\",\n",
    "        endpoint_name=f\"my-{i}-model\",\n",
    "        model_artifact=model_artifact,\n",
    "        input_path=\"inputs.here\",\n",
    "        result_path=\"outputs\",\n",
    "        outputs=[\"label\"],\n",
    "        execution_mechanism=\"asyncio\",\n",
    "    )"
   ]
  },
  {
   "cell_type": "markdown",
   "id": "98ac6bb7-4574-4e34-ab41-00dc6fd39d29",
   "metadata": {},
   "source": [
    "#### 6. Build graphs to all the edge cases\n",
    "\n",
    "description\n"
   ]
  },
  {
   "cell_type": "code",
   "execution_count": 17,
   "id": "c9c07db1-170f-478d-9d1b-5cc7a700fdcf",
   "metadata": {},
   "outputs": [
    {
     "ename": "MLRunInvalidArgumentError",
     "evalue": "graph topology is already set, cannot be overwritten",
     "output_type": "error",
     "traceback": [
      "\u001b[0;31m---------------------------------------------------------------------------\u001b[0m",
      "\u001b[0;31mMLRunInvalidArgumentError\u001b[0m                 Traceback (most recent call last)",
      "Cell \u001b[0;32mIn[17], line 1\u001b[0m\n\u001b[0;32m----> 1\u001b[0m async_graph_defined \u001b[38;5;241m=\u001b[39m \u001b[43mbouth_function\u001b[49m\u001b[38;5;241;43m.\u001b[39;49m\u001b[43mset_topology\u001b[49m\u001b[43m(\u001b[49m\u001b[38;5;124;43m\"\u001b[39;49m\u001b[38;5;124;43mflow\u001b[39;49m\u001b[38;5;124;43m\"\u001b[39;49m\u001b[43m,\u001b[49m\u001b[43mengine\u001b[49m\u001b[38;5;241;43m=\u001b[39;49m\u001b[38;5;124;43m\"\u001b[39;49m\u001b[38;5;124;43masync\u001b[39;49m\u001b[38;5;124;43m\"\u001b[39;49m\u001b[43m)\u001b[49m\n\u001b[1;32m      2\u001b[0m async_graph_defined\u001b[38;5;241m.\u001b[39mto(\u001b[38;5;124m\"\u001b[39m\u001b[38;5;124mMyPreprocessStep\u001b[39m\u001b[38;5;124m\"\u001b[39m)\u001b[38;5;241m.\u001b[39mto(model_runner_step)\u001b[38;5;241m.\u001b[39mto(\u001b[38;5;124m\"\u001b[39m\u001b[38;5;124mMyEnrichStep\u001b[39m\u001b[38;5;124m\"\u001b[39m)\u001b[38;5;241m.\u001b[39mrespond()\n\u001b[1;32m      3\u001b[0m async_graph_defined\u001b[38;5;241m.\u001b[39mplot()\n",
      "File \u001b[0;32m~/.pythonlibs/mlrun-base/lib/python3.9/site-packages/mlrun/runtimes/nuclio/serving.py:289\u001b[0m, in \u001b[0;36mServingRuntime.set_topology\u001b[0;34m(self, topology, class_name, engine, exist_ok, **class_args)\u001b[0m\n\u001b[1;32m    287\u001b[0m topology \u001b[38;5;241m=\u001b[39m topology \u001b[38;5;129;01mor\u001b[39;00m StepKinds\u001b[38;5;241m.\u001b[39mrouter\n\u001b[1;32m    288\u001b[0m \u001b[38;5;28;01mif\u001b[39;00m \u001b[38;5;28mself\u001b[39m\u001b[38;5;241m.\u001b[39mspec\u001b[38;5;241m.\u001b[39mgraph \u001b[38;5;129;01mand\u001b[39;00m \u001b[38;5;129;01mnot\u001b[39;00m exist_ok:\n\u001b[0;32m--> 289\u001b[0m     \u001b[38;5;28;01mraise\u001b[39;00m mlrun\u001b[38;5;241m.\u001b[39merrors\u001b[38;5;241m.\u001b[39mMLRunInvalidArgumentError(\n\u001b[1;32m    290\u001b[0m         \u001b[38;5;124m\"\u001b[39m\u001b[38;5;124mgraph topology is already set, cannot be overwritten\u001b[39m\u001b[38;5;124m\"\u001b[39m\n\u001b[1;32m    291\u001b[0m     )\n\u001b[1;32m    293\u001b[0m \u001b[38;5;28;01mif\u001b[39;00m topology \u001b[38;5;241m==\u001b[39m StepKinds\u001b[38;5;241m.\u001b[39mrouter:\n\u001b[1;32m    294\u001b[0m     \u001b[38;5;28;01mif\u001b[39;00m class_name \u001b[38;5;129;01mand\u001b[39;00m \u001b[38;5;28mhasattr\u001b[39m(class_name, \u001b[38;5;124m\"\u001b[39m\u001b[38;5;124mto_dict\u001b[39m\u001b[38;5;124m\"\u001b[39m):\n",
      "\u001b[0;31mMLRunInvalidArgumentError\u001b[0m: graph topology is already set, cannot be overwritten"
     ]
    }
   ],
   "source": [
    "async_graph_defined = bouth_function.set_topology(\"flow\",engine=\"async\")\n",
    "async_graph_defined.to(\"MyPreprocessStep\").to(model_runner_step).to(\"MyEnrichStep\").respond()\n",
    "async_graph_defined.plot()\n",
    "\n",
    "async_graph_undefined = async_sync_function.set_topology(\"flow\",engine=\"async\")\n",
    "async_graph_undefined.to(\"MyPreprocessStep\").to(model_runner_step).to(\"MyEnrichStep\").respond()\n",
    "async_graph_undefined.plot()\n"
   ]
  },
  {
   "cell_type": "markdown",
   "id": "df7f8407-c5d1-4ed9-82e5-e9ae2782df40",
   "metadata": {},
   "source": [
    "#### Run using mock\n",
    "\n",
    "descteption"
   ]
  },
  {
   "cell_type": "code",
   "execution_count": 7,
   "id": "aef9c427-9630-4c11-a949-a1bc8e7cc241",
   "metadata": {},
   "outputs": [
    {
     "name": "stdout",
     "output_type": "stream",
     "text": [
      "> 2025-10-27 15:15:14,290 [info] Server graph after adding system steps: {\"graph\":\"{'MyPreprocessStep': {'class_name': 'MyPreprocessStep', 'kind': 'task'}, 'my_runner': {'endpoint_type': 1, 'after': ['MyPreprocessStep'], 'model_endpoint_creation_strategy': 'skip', 'class_name': 'mlrun.serving.ModelRunner', 'kind': 'model_runner', 'class_args': {'model_selector': ('MyModelSelector', {'name': 'my-selector'}), execution_mechanism_by_model_name: {'my-0-model': 'asyncio', 'my-1-model': 'asyncio', 'my-2-model': 'asyncio', 'my-3-model': 'asyncio', 'my-4-model': 'asyncio', 'my-5-model': 'asyncio', 'my-6-model': 'asyncio', 'my-7-model': 'asyncio', 'my-8-model': 'asyncio', 'my-9-model': 'asyncio'}, models: {'my-0-model': ('MyModel', {'artifact_uri': 'store://models/monitored-model-runner-asyncio-matanz/SVM#0@4ae95284-200e-4389-829b-e52066e2a117^55b5294e6a2414d628289c2d4c63f37bf0dd8c2a', 'name': 'my-0-model'}), 'my-1-model': ('MyModel', {'artifact_uri': 'store://models/monitored-model-runner-asyncio-matanz/SVM#0@4ae95284-200e-4389-829b-e52066e2a117^55b5294e6a2414d628289c2d4c63f37bf0dd8c2a', 'name': 'my-1-model'}), 'my-2-model': ('MyModel', {'artifact_uri': 'store://models/monitored-model-runner-asyncio-matanz/SVM#0@4ae95284-200e-4389-829b-e52066e2a117^55b5294e6a2414d628289c2d4c63f37bf0dd8c2a', 'name': 'my-2-model'}), 'my-3-model': ('MyModel', {'artifact_uri': 'store://models/monitored-model-runner-asyncio-matanz/SVM#0@4ae95284-200e-4389-829b-e52066e2a117^55b5294e6a2414d628289c2d4c63f37bf0dd8c2a', 'name': 'my-3-model'}), 'my-4-model': ('MyModel', {'artifact_uri': 'store://models/monitored-model-runner-asyncio-matanz/SVM#0@4ae95284-200e-4389-829b-e52066e2a117^55b5294e6a2414d628289c2d4c63f37bf0dd8c2a', 'name': 'my-4-model'}), 'my-5-model': ('MyModel', {'artifact_uri': 'store://models/monitored-model-runner-asyncio-matanz/SVM#0@4ae95284-200e-4389-829b-e52066e2a117^55b5294e6a2414d628289c2d4c63f37bf0dd8c2a', 'name': 'my-5-model'}), 'my-6-model': ('MyModel', {'artifact_uri': 'store://models/monitored-model-runner-asyncio-matanz/SVM#0@4ae95284-200e-4389-829b-e52066e2a117^55b5294e6a2414d628289c2d4c63f37bf0dd8c2a', 'name': 'my-6-model'}), 'my-7-model': ('MyModel', {'artifact_uri': 'store://models/monitored-model-runner-asyncio-matanz/SVM#0@4ae95284-200e-4389-829b-e52066e2a117^55b5294e6a2414d628289c2d4c63f37bf0dd8c2a', 'name': 'my-7-model'}), 'my-8-model': ('MyModel', {'artifact_uri': 'store://models/monitored-model-runner-asyncio-matanz/SVM#0@4ae95284-200e-4389-829b-e52066e2a117^55b5294e6a2414d628289c2d4c63f37bf0dd8c2a', 'name': 'my-8-model'}), 'my-9-model': ('MyModel', {'artifact_uri': 'store://models/monitored-model-runner-asyncio-matanz/SVM#0@4ae95284-200e-4389-829b-e52066e2a117^55b5294e6a2414d628289c2d4c63f37bf0dd8c2a', 'name': 'my-9-model'})}, monitoring_data: {'my-0-model': {inputs: None, outputs: ['label'], input_path: 'inputs.here', result_path: 'outputs', creation_strategy: inplace, labels: None, model_path: 'store://models/monitored-model-runner-asyncio-matanz/SVM#0@4ae95284-200e-4389-829b-e52066e2a117^55b5294e6a2414d628289c2d4c63f37bf0dd8c2a', model_class: 'MyModel'}, 'my-1-model': {inputs: None, outputs: ['label'], input_path: 'inputs.here', result_path: 'outputs', creation_strategy: inplace, labels: None, model_path: 'store://models/monitored-model-runner-asyncio-matanz/SVM#0@4ae95284-200e-4389-829b-e52066e2a117^55b5294e6a2414d628289c2d4c63f37bf0dd8c2a', model_class: 'MyModel'}, 'my-2-model': {inputs: None, outputs: ['label'], input_path: 'inputs.here', result_path: 'outputs', creation_strategy: inplace, labels: None, model_path: 'store://models/monitored-model-runner-asyncio-matanz/SVM#0@4ae95284-200e-4389-829b-e52066e2a117^55b5294e6a2414d628289c2d4c63f37bf0dd8c2a', model_class: 'MyModel'}, 'my-3-model': {inputs: None, outputs: ['label'], input_path: 'inputs.here', result_path: 'outputs', creation_strategy: inplace, labels: None, model_path: 'store://models/monitored-model-runner-asyncio-matanz/SVM#0@4ae95284-200e-4389-829b-e52066e2a117^55b5294e6a2414d628289c2d4c63f37bf0dd8c2a', model_class: 'MyModel'}, 'my-4-model': {inputs: None, outputs: ['label'], input_path: 'inputs.here', result_path: 'outputs', creation_strategy: inplace, labels: None, model_path: 'store://models/monitored-model-runner-asyncio-matanz/SVM#0@4ae95284-200e-4389-829b-e52066e2a117^55b5294e6a2414d628289c2d4c63f37bf0dd8c2a', model_class: 'MyModel'}, 'my-5-model': {inputs: None, outputs: ['label'], input_path: 'inputs.here', result_path: 'outputs', creation_strategy: inplace, labels: None, model_path: 'store://models/monitored-model-runner-asyncio-matanz/SVM#0@4ae95284-200e-4389-829b-e52066e2a117^55b5294e6a2414d628289c2d4c63f37bf0dd8c2a', model_class: 'MyModel'}, 'my-6-model': {inputs: None, outputs: ['label'], input_path: 'inputs.here', result_path: 'outputs', creation_strategy: inplace, labels: None, model_path: 'store://models/monitored-model-runner-asyncio-matanz/SVM#0@4ae95284-200e-4389-829b-e52066e2a117^55b5294e6a2414d628289c2d4c63f37bf0dd8c2a', model_class: 'MyModel'}, 'my-7-model': {inputs: None, outputs: ['label'], input_path: 'inputs.here', result_path: 'outputs', creation_strategy: inplace, labels: None, model_path: 'store://models/monitored-model-runner-asyncio-matanz/SVM#0@4ae95284-200e-4389-829b-e52066e2a117^55b5294e6a2414d628289c2d4c63f37bf0dd8c2a', model_class: 'MyModel'}, 'my-8-model': {inputs: None, outputs: ['label'], input_path: 'inputs.here', result_path: 'outputs', creation_strategy: inplace, labels: None, model_path: 'store://models/monitored-model-runner-asyncio-matanz/SVM#0@4ae95284-200e-4389-829b-e52066e2a117^55b5294e6a2414d628289c2d4c63f37bf0dd8c2a', model_class: 'MyModel'}, 'my-9-model': {inputs: None, outputs: ['label'], input_path: 'inputs.here', result_path: 'outputs', creation_strategy: inplace, labels: None, model_path: 'store://models/monitored-model-runner-asyncio-matanz/SVM#0@4ae95284-200e-4389-829b-e52066e2a117^55b5294e6a2414d628289c2d4c63f37bf0dd8c2a', model_class: 'MyModel'}}}, 'shape': 'folder', 'raise_exception': True}, 'MyEnrichStep': {'after': ['my_runner_error_raise'], 'class_name': 'MyEnrichStep', 'kind': 'task', 'responder': True}, 'my_runner_error_raise': {'full_event': True, 'after': ['my_runner'], 'model_endpoint_creation_strategy': 'skip', 'class_name': 'mlrun.serving.states.ModelRunnerErrorRaiser', 'kind': 'task', 'class_args': {'raise_exception': True, 'models_names': ['my-0-model', 'my-1-model', 'my-2-model', 'my-3-model', 'my-4-model', 'my-5-model', 'my-6-model', 'my-7-model', 'my-8-model', 'my-9-model']}}}\"}\n",
      "> 2025-10-27 15:15:14,633 [info] Server graph after adding system steps: {\"graph\":\"{'MyPreprocessStep': {'class_name': 'MyPreprocessStep', 'kind': 'task'}, 'my_runner': {'endpoint_type': 1, 'after': ['MyPreprocessStep'], 'model_endpoint_creation_strategy': 'skip', 'class_name': 'mlrun.serving.ModelRunner', 'kind': 'model_runner', 'class_args': {'model_selector': ('MyModelSelector', {'name': 'my-selector'}), execution_mechanism_by_model_name: {'my-0-model': 'asyncio', 'my-1-model': 'asyncio', 'my-2-model': 'asyncio', 'my-3-model': 'asyncio', 'my-4-model': 'asyncio', 'my-5-model': 'asyncio', 'my-6-model': 'asyncio', 'my-7-model': 'asyncio', 'my-8-model': 'asyncio', 'my-9-model': 'asyncio'}, models: {'my-0-model': ('MyModel', {'artifact_uri': 'store://models/monitored-model-runner-asyncio-matanz/SVM#0@4ae95284-200e-4389-829b-e52066e2a117^55b5294e6a2414d628289c2d4c63f37bf0dd8c2a', 'name': 'my-0-model'}), 'my-1-model': ('MyModel', {'artifact_uri': 'store://models/monitored-model-runner-asyncio-matanz/SVM#0@4ae95284-200e-4389-829b-e52066e2a117^55b5294e6a2414d628289c2d4c63f37bf0dd8c2a', 'name': 'my-1-model'}), 'my-2-model': ('MyModel', {'artifact_uri': 'store://models/monitored-model-runner-asyncio-matanz/SVM#0@4ae95284-200e-4389-829b-e52066e2a117^55b5294e6a2414d628289c2d4c63f37bf0dd8c2a', 'name': 'my-2-model'}), 'my-3-model': ('MyModel', {'artifact_uri': 'store://models/monitored-model-runner-asyncio-matanz/SVM#0@4ae95284-200e-4389-829b-e52066e2a117^55b5294e6a2414d628289c2d4c63f37bf0dd8c2a', 'name': 'my-3-model'}), 'my-4-model': ('MyModel', {'artifact_uri': 'store://models/monitored-model-runner-asyncio-matanz/SVM#0@4ae95284-200e-4389-829b-e52066e2a117^55b5294e6a2414d628289c2d4c63f37bf0dd8c2a', 'name': 'my-4-model'}), 'my-5-model': ('MyModel', {'artifact_uri': 'store://models/monitored-model-runner-asyncio-matanz/SVM#0@4ae95284-200e-4389-829b-e52066e2a117^55b5294e6a2414d628289c2d4c63f37bf0dd8c2a', 'name': 'my-5-model'}), 'my-6-model': ('MyModel', {'artifact_uri': 'store://models/monitored-model-runner-asyncio-matanz/SVM#0@4ae95284-200e-4389-829b-e52066e2a117^55b5294e6a2414d628289c2d4c63f37bf0dd8c2a', 'name': 'my-6-model'}), 'my-7-model': ('MyModel', {'artifact_uri': 'store://models/monitored-model-runner-asyncio-matanz/SVM#0@4ae95284-200e-4389-829b-e52066e2a117^55b5294e6a2414d628289c2d4c63f37bf0dd8c2a', 'name': 'my-7-model'}), 'my-8-model': ('MyModel', {'artifact_uri': 'store://models/monitored-model-runner-asyncio-matanz/SVM#0@4ae95284-200e-4389-829b-e52066e2a117^55b5294e6a2414d628289c2d4c63f37bf0dd8c2a', 'name': 'my-8-model'}), 'my-9-model': ('MyModel', {'artifact_uri': 'store://models/monitored-model-runner-asyncio-matanz/SVM#0@4ae95284-200e-4389-829b-e52066e2a117^55b5294e6a2414d628289c2d4c63f37bf0dd8c2a', 'name': 'my-9-model'})}, monitoring_data: {'my-0-model': {inputs: None, outputs: ['label'], input_path: 'inputs.here', result_path: 'outputs', creation_strategy: inplace, labels: None, model_path: 'store://models/monitored-model-runner-asyncio-matanz/SVM#0@4ae95284-200e-4389-829b-e52066e2a117^55b5294e6a2414d628289c2d4c63f37bf0dd8c2a', model_class: 'MyModel'}, 'my-1-model': {inputs: None, outputs: ['label'], input_path: 'inputs.here', result_path: 'outputs', creation_strategy: inplace, labels: None, model_path: 'store://models/monitored-model-runner-asyncio-matanz/SVM#0@4ae95284-200e-4389-829b-e52066e2a117^55b5294e6a2414d628289c2d4c63f37bf0dd8c2a', model_class: 'MyModel'}, 'my-2-model': {inputs: None, outputs: ['label'], input_path: 'inputs.here', result_path: 'outputs', creation_strategy: inplace, labels: None, model_path: 'store://models/monitored-model-runner-asyncio-matanz/SVM#0@4ae95284-200e-4389-829b-e52066e2a117^55b5294e6a2414d628289c2d4c63f37bf0dd8c2a', model_class: 'MyModel'}, 'my-3-model': {inputs: None, outputs: ['label'], input_path: 'inputs.here', result_path: 'outputs', creation_strategy: inplace, labels: None, model_path: 'store://models/monitored-model-runner-asyncio-matanz/SVM#0@4ae95284-200e-4389-829b-e52066e2a117^55b5294e6a2414d628289c2d4c63f37bf0dd8c2a', model_class: 'MyModel'}, 'my-4-model': {inputs: None, outputs: ['label'], input_path: 'inputs.here', result_path: 'outputs', creation_strategy: inplace, labels: None, model_path: 'store://models/monitored-model-runner-asyncio-matanz/SVM#0@4ae95284-200e-4389-829b-e52066e2a117^55b5294e6a2414d628289c2d4c63f37bf0dd8c2a', model_class: 'MyModel'}, 'my-5-model': {inputs: None, outputs: ['label'], input_path: 'inputs.here', result_path: 'outputs', creation_strategy: inplace, labels: None, model_path: 'store://models/monitored-model-runner-asyncio-matanz/SVM#0@4ae95284-200e-4389-829b-e52066e2a117^55b5294e6a2414d628289c2d4c63f37bf0dd8c2a', model_class: 'MyModel'}, 'my-6-model': {inputs: None, outputs: ['label'], input_path: 'inputs.here', result_path: 'outputs', creation_strategy: inplace, labels: None, model_path: 'store://models/monitored-model-runner-asyncio-matanz/SVM#0@4ae95284-200e-4389-829b-e52066e2a117^55b5294e6a2414d628289c2d4c63f37bf0dd8c2a', model_class: 'MyModel'}, 'my-7-model': {inputs: None, outputs: ['label'], input_path: 'inputs.here', result_path: 'outputs', creation_strategy: inplace, labels: None, model_path: 'store://models/monitored-model-runner-asyncio-matanz/SVM#0@4ae95284-200e-4389-829b-e52066e2a117^55b5294e6a2414d628289c2d4c63f37bf0dd8c2a', model_class: 'MyModel'}, 'my-8-model': {inputs: None, outputs: ['label'], input_path: 'inputs.here', result_path: 'outputs', creation_strategy: inplace, labels: None, model_path: 'store://models/monitored-model-runner-asyncio-matanz/SVM#0@4ae95284-200e-4389-829b-e52066e2a117^55b5294e6a2414d628289c2d4c63f37bf0dd8c2a', model_class: 'MyModel'}, 'my-9-model': {inputs: None, outputs: ['label'], input_path: 'inputs.here', result_path: 'outputs', creation_strategy: inplace, labels: None, model_path: 'store://models/monitored-model-runner-asyncio-matanz/SVM#0@4ae95284-200e-4389-829b-e52066e2a117^55b5294e6a2414d628289c2d4c63f37bf0dd8c2a', model_class: 'MyModel'}}}, 'shape': 'folder', 'raise_exception': True}, 'MyEnrichStep': {'after': ['my_runner_error_raise'], 'class_name': 'MyEnrichStep', 'kind': 'task', 'responder': True}, 'my_runner_error_raise': {'full_event': True, 'after': ['my_runner'], 'model_endpoint_creation_strategy': 'skip', 'class_name': 'mlrun.serving.states.ModelRunnerErrorRaiser', 'kind': 'task', 'class_args': {'raise_exception': True, 'models_names': ['my-0-model', 'my-1-model', 'my-2-model', 'my-3-model', 'my-4-model', 'my-5-model', 'my-6-model', 'my-7-model', 'my-8-model', 'my-9-model']}}}\"}\n"
     ]
    }
   ],
   "source": [
    "# 4. create mock server and test it locally (no k8s / deployment)\n",
    "\n",
    "async_undefined_mock_server = bouth_function.to_mock_server()\n",
    "async_defined_mock_server = async_sync_function.to_mock_server()"
   ]
  },
  {
   "cell_type": "code",
   "execution_count": 8,
   "id": "8e6be3af-c956-498f-b4a8-8311a974b096",
   "metadata": {},
   "outputs": [
    {
     "data": {
      "text/plain": [
       "<mlrun.serving.server.GraphServer at 0x7f53da05d220>"
      ]
     },
     "execution_count": 8,
     "metadata": {},
     "output_type": "execute_result"
    }
   ],
   "source": [
    "async_undefined_mock_server\n",
    "async_defined_mock_server\n"
   ]
  },
  {
   "cell_type": "code",
   "execution_count": 18,
   "id": "843b895b-0f8c-4d92-9ba8-677b2097a586",
   "metadata": {},
   "outputs": [
    {
     "name": "stdout",
     "output_type": "stream",
     "text": [
      "Data point:[6.4, 2.7, 5.3, 1.9]\n",
      "Before async_sync_function invoke: 15:22:58.753550\n",
      "async\n",
      "async\n",
      "async\n",
      "async\n",
      "async\n",
      "async\n",
      "async\n",
      "async\n",
      "async\n",
      "async\n",
      "After invoke: 15:22:59.762416\n",
      "Total time: 1.008866 seconds\n"
     ]
    }
   ],
   "source": [
    "from random import choice\n",
    "from datetime import datetime\n",
    "\n",
    "iris_data = iris[\"data\"].tolist()\n",
    "data_point = choice(iris_data)\n",
    "print(f\"Data point:{data_point}\")\n",
    "\n",
    "time_before = datetime.now()\n",
    "print(\"Before async_sync_function invoke:\", time_before.strftime(\"%H:%M:%S.%f\"))\n",
    "async_sync_response = async_undefined_mock_server.test(\n",
    "    \"/\",\n",
    "    body={\n",
    "        \"models\": None,\n",
    "        \"inputs\": [data_point, data_point],\n",
    "    },\n",
    ")\n",
    "time_after = datetime.now()\n",
    "print(\"After invoke:\", time_after.strftime(\"%H:%M:%S.%f\"))\n",
    "\n",
    "# Compute total time difference\n",
    "total_time = time_after - time_before\n",
    "print(\"Total time:\", total_time.total_seconds(), \"seconds\")"
   ]
  },
  {
   "cell_type": "code",
   "execution_count": 10,
   "id": "8da639b7-8786-45d9-850d-4a4ca5ebe3ab",
   "metadata": {},
   "outputs": [],
   "source": [
    "# async_sync_response"
   ]
  },
  {
   "cell_type": "code",
   "execution_count": 11,
   "id": "57b1cfc9-64b1-4112-aa94-1d6dfc108502",
   "metadata": {},
   "outputs": [
    {
     "name": "stdout",
     "output_type": "stream",
     "text": [
      "Data point:[5.8, 2.7, 5.1, 1.9]\n",
      "Before async_sync_function invoke: 15:15:15.985020\n",
      "After invoke: 15:15:15.986699\n",
      "Total time: 0.001679 seconds\n"
     ]
    }
   ],
   "source": [
    "iris_data = iris[\"data\"].tolist()\n",
    "data_point = choice(iris_data)\n",
    "print(f\"Data point:{data_point}\")\n",
    "\n",
    "\n",
    "time_before = datetime.now()\n",
    "print(\"Before async_sync_function invoke:\", time_before.strftime(\"%H:%M:%S.%f\"))\n",
    "async_sync_response = async_defined_mock_server.test(\n",
    "    \"/\",\n",
    "    body={\n",
    "        \"models\": None,\n",
    "        \"inputs\": [data_point, data_point],\n",
    "    },\n",
    ")\n",
    "time_after = datetime.now()\n",
    "print(\"After invoke:\", time_after.strftime(\"%H:%M:%S.%f\"))\n",
    "\n",
    "# Compute total time difference\n",
    "total_time = time_after - time_before\n",
    "print(\"Total time:\", total_time.total_seconds(), \"seconds\")"
   ]
  },
  {
   "cell_type": "code",
   "execution_count": 12,
   "id": "769fd945-e2e5-424f-8209-9a79a9073e68",
   "metadata": {},
   "outputs": [],
   "source": [
    "# async_sync_response"
   ]
  },
  {
   "cell_type": "markdown",
   "id": "45d9626a-6b61-4373-806a-2581754b297c",
   "metadata": {},
   "source": [
    "#### 7. Deploying Your Function\n",
    "\n",
    "Running this cell will deploy your serving function to the cluster. This also deploys the real-time monitoring functions for your project, which are configured to track the serving function's performance and detect model drift."
   ]
  },
  {
   "cell_type": "code",
   "execution_count": 13,
   "id": "f6adb3dd-166c-4d02-93cc-116d5cbd23d8",
   "metadata": {},
   "outputs": [
    {
     "name": "stdout",
     "output_type": "stream",
     "text": [
      "> 2025-10-27 15:15:16,004 [info] Starting remote function deploy\n",
      "2025-10-27 15:15:17  (info) Deploying function\n",
      "2025-10-27 15:15:17  (info) Building\n",
      "2025-10-27 15:15:17  (info) Staging files and preparing base images\n",
      "2025-10-27 15:15:17  (warn) Using user provided base image, runtime interpreter version is provided by the base image\n",
      "2025-10-27 15:15:17  (info) Building processor image\n",
      "2025-10-27 15:16:43  (info) Build complete\n",
      "2025-10-27 15:16:51  (info) Function deploy complete\n",
      "> 2025-10-27 15:16:58,327 [info] Model endpoint creation task completed with state succeeded\n",
      "> 2025-10-27 15:16:58,328 [info] Successfully deployed function: {\"external_invocation_urls\":[\"monitored-model-runner-asyncio-matanz-async.default-tenant.app.cust-cs-il.iguazio-cd0.com/\"],\"internal_invocation_urls\":[\"nuclio-monitored-model-runner-asyncio-matanz-async.default-tenant.svc.cluster.local:8080\"]}\n",
      "> 2025-10-27 15:16:58,384 [info] Starting remote function deploy\n",
      "2025-10-27 15:16:58  (info) Deploying function\n",
      "2025-10-27 15:16:58  (info) Building\n",
      "2025-10-27 15:16:58  (info) Staging files and preparing base images\n",
      "2025-10-27 15:16:58  (warn) Using user provided base image, runtime interpreter version is provided by the base image\n",
      "2025-10-27 15:16:58  (info) Building processor image\n",
      "2025-10-27 15:18:14  (info) Build complete\n",
      "> 2025-10-27 15:18:29,595 [info] Model endpoint creation task completed with state succeeded\n",
      "> 2025-10-27 15:18:29,596 [info] Successfully deployed function: {\"external_invocation_urls\":[\"monitored-model-runner-asyncio-matanz-bouth.default-tenant.app.cust-cs-il.iguazio-cd0.com/\"],\"internal_invocation_urls\":[\"nuclio-monitored-model-runner-asyncio-matanz-bouth.default-tenant.svc.cluster.local:8080\"]}\n"
     ]
    },
    {
     "data": {
      "text/plain": [
       "'http://monitored-model-runner-asyncio-matanz-bouth.default-tenant.app.cust-cs-il.iguazio-cd0.com/'"
      ]
     },
     "execution_count": 13,
     "metadata": {},
     "output_type": "execute_result"
    }
   ],
   "source": [
    "async_sync_function.deploy()\n",
    "bouth_function.deploy()"
   ]
  },
  {
   "cell_type": "code",
   "execution_count": 14,
   "id": "f487080f-65c0-4a36-88d2-b8366883a91a",
   "metadata": {},
   "outputs": [
    {
     "name": "stdout",
     "output_type": "stream",
     "text": [
      "Data point:[5.9, 3.2, 4.8, 1.8]\n",
      "Before async_sync_function invoke: 15:18:29.668815\n",
      "After invoke: 15:18:29.748434\n",
      "Total time: 0.079619 seconds\n"
     ]
    }
   ],
   "source": [
    "iris_data = iris[\"data\"].tolist()\n",
    "data_point = choice(iris_data)\n",
    "print(f\"Data point:{data_point}\")\n",
    "\n",
    "\n",
    "time_before = datetime.now()\n",
    "print(\"Before async_sync_function invoke:\", time_before.strftime(\"%H:%M:%S.%f\"))\n",
    "async_sync_response = async_sync_function.invoke(\n",
    "    \"/\",\n",
    "    body={\n",
    "        \"models\": None,\n",
    "        \"inputs\": [data_point, data_point],\n",
    "    },\n",
    ")\n",
    "time_after = datetime.now()\n",
    "print(\"After invoke:\", time_after.strftime(\"%H:%M:%S.%f\"))\n",
    "\n",
    "# Compute total time difference\n",
    "total_time = time_after - time_before\n",
    "print(\"Total time:\", total_time.total_seconds(), \"seconds\")"
   ]
  },
  {
   "cell_type": "code",
   "execution_count": 15,
   "id": "93540b6d-cf63-4391-abc6-01606ed4bb14",
   "metadata": {},
   "outputs": [],
   "source": [
    "# async_sync_response"
   ]
  },
  {
   "cell_type": "code",
   "execution_count": 16,
   "id": "981ece49-c309-4ccb-a8ba-1892c7bad717",
   "metadata": {},
   "outputs": [
    {
     "ename": "SyntaxError",
     "evalue": "invalid syntax (<ipython-input-16-d2d48890bc78>, line 19)",
     "output_type": "error",
     "traceback": [
      "\u001b[0;36m  Cell \u001b[0;32mIn[16], line 19\u001b[0;36m\u001b[0m\n\u001b[0;31m    print(\"Total time:\", total_time.total_se \"seconds\")\u001b[0m\n\u001b[0m                                             ^\u001b[0m\n\u001b[0;31mSyntaxError\u001b[0m\u001b[0;31m:\u001b[0m invalid syntax\n"
     ]
    }
   ],
   "source": [
    "iris_data = iris[\"data\"].tolist()\n",
    "data_point = choice(iris_data)\n",
    "print(f\"Data point:{data_point}\")\n",
    "\n",
    "\n",
    "print(\"Before bouth_function invoke:\", datetime.now().strftime(\"%H:%M:%S.%f\"))\n",
    "bouth_response = bouth_function.invoke(\n",
    "    \"/\",\n",
    "    body={\n",
    "        \"models\": None,\n",
    "        \"inputs\": [data_point, data_point],\n",
    "    },\n",
    ")\n",
    "time_after = datetime.now()\n",
    "print(\"After invoke:\", time_after.strftime(\"%H:%M:%S.%f\"))\n",
    "\n",
    "# Compute total time difference\n",
    "total_time = time_after - time_before\n",
    "print(\"Total time:\", total_time.total_se \"seconds\")"
   ]
  },
  {
   "cell_type": "code",
   "execution_count": null,
   "id": "e11051f9-159b-48b4-acf3-392706d52008",
   "metadata": {},
   "outputs": [],
   "source": [
    "bouth_response"
   ]
  },
  {
   "cell_type": "code",
   "execution_count": null,
   "id": "c72c7e37-d552-41c2-8822-7eb67270e08e",
   "metadata": {},
   "outputs": [],
   "source": []
  },
  {
   "cell_type": "code",
   "execution_count": null,
   "id": "7515c00b-efb5-4bea-bbfe-2b4709e4373b",
   "metadata": {},
   "outputs": [],
   "source": []
  },
  {
   "cell_type": "code",
   "execution_count": null,
   "id": "23484583-8301-4ad8-a2b6-0b7d0507b2b8",
   "metadata": {},
   "outputs": [],
   "source": []
  },
  {
   "cell_type": "markdown",
   "id": "0e59370b-81bf-472b-94e8-c37d4be77744",
   "metadata": {},
   "source": [
    "# TODO\n",
    "2. Check if we get a warning when we try to run async when there is no \"async predict\" \n",
    "    \n",
    "3. Check if the async work as expected\n",
    "\n",
    "4. Try to add different prompts to the same model using async, and inspect the behavior\n"
   ]
  },
  {
   "cell_type": "code",
   "execution_count": null,
   "id": "bb55242e-17c2-4fa0-b83f-6c6069c0c98f",
   "metadata": {},
   "outputs": [],
   "source": []
  },
  {
   "cell_type": "code",
   "execution_count": null,
   "id": "12d71e72-b355-431c-9d74-70532725298d",
   "metadata": {},
   "outputs": [],
   "source": []
  }
 ],
 "metadata": {
  "kernelspec": {
   "display_name": "mlrun-base",
   "language": "python",
   "name": "conda-env-mlrun-base-py"
  },
  "language_info": {
   "codemirror_mode": {
    "name": "ipython",
    "version": 3
   },
   "file_extension": ".py",
   "mimetype": "text/x-python",
   "name": "python",
   "nbconvert_exporter": "python",
   "pygments_lexer": "ipython3",
   "version": "3.9.18"
  }
 },
 "nbformat": 4,
 "nbformat_minor": 5
}
